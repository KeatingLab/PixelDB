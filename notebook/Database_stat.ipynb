{
 "cells": [
  {
   "cell_type": "code",
   "execution_count": 1,
   "metadata": {
    "collapsed": false
   },
   "outputs": [
    {
     "name": "stdout",
     "output_type": "stream",
     "text": [
      "Populating the interactive namespace from numpy and matplotlib\n"
     ]
    }
   ],
   "source": [
    "import pandas as pd\n",
    "import numpy as np\n",
    "import re\n",
    "from scipy import stats\n",
    "import seaborn as sns\n",
    "\n",
    "\n",
    "\n",
    "%pylab inline\n",
    "%matplotlib inline"
   ]
  },
  {
   "cell_type": "code",
   "execution_count": 2,
   "metadata": {
    "collapsed": true
   },
   "outputs": [],
   "source": [
    "myAmino = [\"R\",\"H\",\"K\",\"D\",\"E\",\"S\",\"T\",\"N\",\"Q\",\"C\",\"G\",\"P\",\"A\",\"V\",\"I\",\"L\",\"M\",\"F\",\"Y\",\"W\"]"
   ]
  },
  {
   "cell_type": "code",
   "execution_count": 4,
   "metadata": {
    "collapsed": false
   },
   "outputs": [
    {
     "data": {
      "text/plain": [
       "1976"
      ]
     },
     "execution_count": 4,
     "metadata": {},
     "output_type": "execute_result"
    }
   ],
   "source": [
    "#Load PixelDB\n",
    "path = \"/media/vince/Postdoc/PixelDB/PixelDB/\"\n",
    "PixelDB = pd.read_csv(path+\"PixelDB.csv\")\n",
    "len(PixelDB[\"name\"])"
   ]
  },
  {
   "cell_type": "code",
   "execution_count": 5,
   "metadata": {
    "collapsed": false
   },
   "outputs": [
    {
     "name": "stdout",
     "output_type": "stream",
     "text": [
      "('Entries in DB:', 1976)\n",
      "('Receptor Cluster', 479)\n",
      "('Unique Binding Mode', 702)\n",
      "('Binding mode with 2 plus peptide', 271)\n"
     ]
    }
   ],
   "source": [
    "print(\"Entries in DB:\",len(PixelDB[\"cluster_number\"]))\n",
    "print(\"Receptor Cluster\",len(PixelDB[\"cluster_number\"].value_counts()))\n",
    "print(\"Unique Binding Mode\",len(PixelDB[\"unique_id\"].value_counts()))\n",
    "print(\"Binding mode with 2 plus peptide\",np.sum((PixelDB[\"unique_id\"].value_counts()) >= 2))"
   ]
  },
  {
   "cell_type": "code",
   "execution_count": null,
   "metadata": {
    "collapsed": true
   },
   "outputs": [],
   "source": [
    "#Some STAT on PixelDB"
   ]
  },
  {
   "cell_type": "code",
   "execution_count": null,
   "metadata": {
    "collapsed": true
   },
   "outputs": [],
   "source": [
    "PixelDBecr = PixelDB.copy()\n",
    "for uniid in list(np.unique(PixelDB[\"unique_id\"])):\n",
    "    sdf = PixelDB[PixelDB[\"unique_id\"] == uniid]\n",
    "    \n",
    "    \n",
    "    \n",
    "    if not np.sum((np.array(sdf[\"longest_continuous_core\"]) > 3) & (np.array(sdf[\"longest_continuous_ecr\"]) > 3)) > 0:\n",
    "        PixelDBecr = PixelDBecr[PixelDBecr[\"unique_id\"] != uniid]\n",
    "        continue\n",
    "    #break"
   ]
  },
  {
   "cell_type": "code",
   "execution_count": null,
   "metadata": {
    "collapsed": true
   },
   "outputs": [],
   "source": [
    "PixelDBoecr = PixelDB[PixelDB[\"longest_continuous_ecr\"] > 3]"
   ]
  },
  {
   "cell_type": "code",
   "execution_count": null,
   "metadata": {
    "collapsed": true
   },
   "outputs": [],
   "source": []
  },
  {
   "cell_type": "code",
   "execution_count": null,
   "metadata": {
    "collapsed": false
   },
   "outputs": [],
   "source": [
    "print(\"Unique Binding Mode\",len(PixelDBecr[\"unique_id\"].value_counts()))\n",
    "print(\"Exosite and ECR complexes\",np.sum(PixelDBecr[\"longest_continuous_ecr\"] > 3))"
   ]
  },
  {
   "cell_type": "code",
   "execution_count": null,
   "metadata": {
    "collapsed": true
   },
   "outputs": [],
   "source": []
  },
  {
   "cell_type": "code",
   "execution_count": null,
   "metadata": {
    "collapsed": false,
    "scrolled": false
   },
   "outputs": [],
   "source": [
    "#Is there a link between CATHdb and Binding mode\n",
    "\n",
    "for ikl in range(0,2):\n",
    "    torun = PixelDB\n",
    "    if ikl == 1:\n",
    "        print(\"ECR\")\n",
    "        torun = PixelDBecr\n",
    "    else:\n",
    "        print(\"Full\")\n",
    "\n",
    "    \n",
    "    \n",
    "    \n",
    "\n",
    "    for test in [\"PFAM\",\"uniprot\",\"CATH\"]:\n",
    "        CATHdbOver = []\n",
    "        BindingMode = []\n",
    "        for uniid in list(np.unique(torun[\"cluster_number\"])):\n",
    "            sdf = torun[torun[\"cluster_number\"] == uniid]\n",
    "\n",
    "\n",
    "\n",
    "            BindingMode.append(len(sdf[\"unique_id\"].value_counts()))\n",
    "            if (len(sdf[\"unique_id\"].value_counts()) == 1):\n",
    "                continue\n",
    "            AllCATH = []\n",
    "\n",
    "\n",
    "\n",
    "            AllCATHUni = []\n",
    "            for unid in np.unique(sdf[\"unique_id\"]):\n",
    "\n",
    "                CATHuni = []\n",
    "                for cid in sdf[sdf[\"unique_id\"] == unid][test]:\n",
    "                    #print(cid.split(\"_\"))\n",
    "                    if str(cid) != \"nan\":\n",
    "                        CATHuni += cid.split(\"_\")\n",
    "                        AllCATHUni += cid.split(\"_\")\n",
    "\n",
    "                AllCATH.append(list(set(CATHuni)))\n",
    "\n",
    "            Tot = 0\n",
    "            Over = 0\n",
    "\n",
    "            for i in range(0,len(AllCATH)):\n",
    "                for j in range(i+1,len(AllCATH)):\n",
    "                    OverT = 0\n",
    "                    for v in AllCATH[i]:\n",
    "                        if v in AllCATH[j]:\n",
    "                            OverT += 1\n",
    "                    if (OverT != 0):\n",
    "                        Over += 1\n",
    "                    #else:\n",
    "                    #    print(i,j,AllCATH[i],AllCATH[j])\n",
    "                    Tot += 1\n",
    "            CATHdbOver.append(float(Over)/float(Tot))\n",
    "            #if (CATHdbOver[-1] < 0.5):\n",
    "            #    print(uniid,Over,Tot)\n",
    "            #    print(AllCATH)\n",
    "\n",
    "\n",
    "\n",
    "            #if len(sdf[\"unique_id\"].value_counts()) > 6:\n",
    "            #    print(uniid,len(sdf[\"unique_id\"].value_counts()))\n",
    "            #    print(pd.Series(AllCATHUni).value_counts())\n",
    "            #else:\n",
    "            #    break\n",
    "\n",
    "\n",
    "            #break\n",
    "            #          \n",
    "            #break\n",
    "        print(len(CATHdbOver))\n",
    "        print(\"Average Overlap of:\",test,np.mean(CATHdbOver))\n",
    "        print(\"Median Overlap of:\",test,np.median(CATHdbOver))\n",
    "        print(\"Average Nb of Binding mode:\",np.mean(BindingMode))\n",
    "        print(\"Median Nb of Binding mode:\",np.median(BindingMode))\n",
    "        print(np.min(BindingMode),np.max(BindingMode))\n",
    "        \n",
    "        print(\"More than one binding mode\",np.sum(np.array(BindingMode)  > 1))\n",
    "        print(\"Total cluster\",len(BindingMode))\n",
    "        \n",
    "        print()"
   ]
  },
  {
   "cell_type": "code",
   "execution_count": null,
   "metadata": {
    "collapsed": false,
    "scrolled": true
   },
   "outputs": [],
   "source": [
    "#How often same PDB different binding mode\n",
    "\n",
    "for ikl in range(0,2):\n",
    "    torun = PixelDB\n",
    "    if ikl == 1:\n",
    "        print(\"ECR\")\n",
    "        torun = PixelDBecr\n",
    "    else:\n",
    "        print(\"Full\")\n",
    "    tot = 0\n",
    "    AllCluster = []\n",
    "    for uniid in list(np.unique(torun[\"pdb_id\"])):\n",
    "        sdf = torun[torun[\"pdb_id\"] == uniid]\n",
    "        if (len(sdf) == 1):\n",
    "            continue\n",
    "        for ch in list(np.unique(sdf[\"receptor_chain\"])):\n",
    "            ssdf = sdf[sdf[\"receptor_chain\"] == ch]\n",
    "            if (len(ssdf) == 1):\n",
    "                continue\n",
    "            print(uniid,ch,len(ssdf),np.unique(sdf[\"cluster_number\"]))\n",
    "            AllCluster += list(np.unique(sdf[\"cluster_number\"]))\n",
    "            tot += 1\n",
    "        #break\n",
    "    print(len(list(set(AllCluster))))\n",
    "    print(\"Same receptor engage in multiple peptide binding:\",tot)\n",
    "    #break"
   ]
  },
  {
   "cell_type": "code",
   "execution_count": null,
   "metadata": {
    "collapsed": false
   },
   "outputs": [],
   "source": [
    "sdf"
   ]
  },
  {
   "cell_type": "code",
   "execution_count": null,
   "metadata": {
    "collapsed": false
   },
   "outputs": [],
   "source": []
  },
  {
   "cell_type": "code",
   "execution_count": null,
   "metadata": {
    "collapsed": false
   },
   "outputs": [],
   "source": []
  },
  {
   "cell_type": "code",
   "execution_count": null,
   "metadata": {
    "collapsed": false
   },
   "outputs": [],
   "source": [
    "\n"
   ]
  },
  {
   "cell_type": "code",
   "execution_count": null,
   "metadata": {
    "collapsed": true
   },
   "outputs": [],
   "source": []
  },
  {
   "cell_type": "code",
   "execution_count": null,
   "metadata": {
    "collapsed": false,
    "scrolled": false
   },
   "outputs": [],
   "source": [
    "#Is there a link between CATHdb and Binding mode\n",
    "\n",
    "for ikl in range(0,2):\n",
    "    torun = PixelDB\n",
    "    if ikl == 1:\n",
    "        print(\"ECR\")\n",
    "        torun = PixelDBecr\n",
    "    else:\n",
    "        print(\"Full\")\n",
    "    inbm = []\n",
    "    outbm = []\n",
    "    for uniid in list(np.unique(torun[\"cluster_number\"])):\n",
    "        sdf = torun[torun[\"cluster_number\"] == uniid]\n",
    "        sdf = sdf[sdf[\"mean_seq_iden_in_bm\"] > 0]\n",
    "        sdf = sdf[sdf[\"mean_seq_iden_not_bm\"] > 0]\n",
    "        \n",
    "        \n",
    "        \n",
    "        if (len(sdf) == 0):\n",
    "            continue\n",
    "            \n",
    "        #die\n",
    "        if (len(sdf[\"unique_id\"].value_counts()) == 1):\n",
    "            continue\n",
    "        plt.scatter(sdf[\"mean_seq_iden_in_bm\"]*100,sdf[\"mean_seq_iden_not_bm\"]*100)\n",
    "        inbm.append(np.mean(sdf[\"mean_seq_iden_in_bm\"]))\n",
    "        outbm.append(np.mean(sdf[\"mean_seq_iden_not_bm\"]))\n",
    "        #print(inbm[-1],uniid)\n",
    "        #if uniid == 7:\n",
    "        #    die\n",
    "        \n",
    "    plt.xlabel(\"Mean sequence receptor within Binding mode\")\n",
    "    plt.ylabel(\"Mean sequence receptor not in Binding mode\")\n",
    "    plt.plot([-5,105],[-5,105])\n",
    "    plt.xlim((-5,105))\n",
    "    plt.ylim((-5,105))\n",
    "    plt.show()\n",
    "    #break\n",
    "    print(\"Average seq iden in and out\",np.mean(inbm),np.mean(outbm),len(inbm))\n",
    "    plt.hist(inbm,20)\n",
    "    plt.title(\"In binding mode\")\n",
    "    plt.show()\n",
    "    plt.hist(outbm,20)\n",
    "    plt.title(\"Between binding mode\")\n",
    "    plt.show()\n",
    "    print(\"Median seq iden in and out\",np.median(inbm),np.median(outbm),len(inbm))\n",
    "    print(\"Max and min seq iden \",np.min(inbm),np.max(inbm),len(inbm))\n",
    "    \n",
    "    figsize(10,10)\n",
    "    plt.hist(np.array(inbm)*100)\n",
    "    plt.xlim([0,100])\n",
    "    plt.xlabel(\"Average sequence idendity in binding mode (%)\", fontsize=18 )\n",
    "    plt.ylabel(\"Count\", fontsize=18)\n",
    "    plt.tick_params(axis='both', which='major', labelsize=18)\n",
    "    plt.show()\n",
    "    \n",
    "    plt.hist(np.array(outbm)*100)\n",
    "    plt.xlim([0,100])\n",
    "    plt.xlabel(\"Average sequence idendity between binding mode (%)\", fontsize=18 )\n",
    "    plt.ylabel(\"Count\", fontsize=18)\n",
    "    plt.tick_params(axis='both', which='major', labelsize=18)\n",
    "    plt.show()\n",
    "    \n",
    "    break\n",
    "\n",
    "  "
   ]
  },
  {
   "cell_type": "code",
   "execution_count": null,
   "metadata": {
    "collapsed": false
   },
   "outputs": [],
   "source": [
    "#sdf[\"unique_id\"].value_counts()"
   ]
  },
  {
   "cell_type": "code",
   "execution_count": null,
   "metadata": {
    "collapsed": true
   },
   "outputs": [],
   "source": []
  },
  {
   "cell_type": "code",
   "execution_count": null,
   "metadata": {
    "collapsed": false
   },
   "outputs": [],
   "source": [
    "for ikl in range(0,3):\n",
    "    torun = PixelDB\n",
    "    if ikl == 0:\n",
    "        print(\"Full\")\n",
    "    if ikl == 1:\n",
    "        torun = PixelDBecr\n",
    "        print(\"ECR\")\n",
    "    if ikl == 2:\n",
    "        torun = PixelDBoecr\n",
    "        print(\"ECRdist\")\n",
    "\n",
    "    UniquePFAM = []\n",
    "    UniqueUnip = []\n",
    "    UniqueCATH = []\n",
    "        \n",
    "    UniprotPerBindingMode = []\n",
    "    CATHPerBindingMode = []\n",
    "    PFAMPerBindingMode = []\n",
    "\n",
    "    StrPerBindingMode = []\n",
    "\n",
    "    for uniid in list(np.unique(torun[\"unique_id\"])):\n",
    "        sdf = torun[torun[\"unique_id\"] == uniid]\n",
    "        #print(sdf[\"sequence_alignment\"])\n",
    "        \n",
    "        StrPerBindingMode.append(len(sdf))\n",
    "        \n",
    "        Uniuni = []\n",
    "        for cid in sdf[\"uniprot\"]:\n",
    "            #print(cid.split(\"_\"))\n",
    "            if str(cid) != \"nan\":\n",
    "                Uniuni += cid.split(\"_\")\n",
    "        UniprotPerBindingMode.append(len(list(set(Uniuni))))\n",
    "        \n",
    "        \n",
    "        CATHuni = []\n",
    "        for cid in sdf[\"CATH\"]:\n",
    "            #print(cid.split(\"_\"))\n",
    "            if str(cid) != \"nan\":\n",
    "                CATHuni += cid.split(\"_\")\n",
    "        CATHPerBindingMode.append(len(list(set(CATHuni))))\n",
    "\n",
    "        PFAMuni = []\n",
    "        for cid in sdf[\"PFAM\"]:\n",
    "            #print(cid.split(\"_\"))\n",
    "            if str(cid) != \"nan\":\n",
    "                PFAMuni += cid.split(\"_\")\n",
    "        PFAMPerBindingMode.append(len(list(set(PFAMuni))))\n",
    "\n",
    "            #print(\"Binding mode with ECR and Core >= 4\",len(PixelDBecr[\"unique_id\"].value_counts()))\n",
    "    print(\"Unique Binding Mode\",len(np.unique(torun[\"unique_id\"])))\n",
    "    print(\"Strc Per Binding Mode\",np.mean(StrPerBindingMode),np.median(StrPerBindingMode),np.min(StrPerBindingMode),np.max(StrPerBindingMode))\n",
    "    print(\"Uniprot Per Binding Mode\",np.mean(UniprotPerBindingMode),np.median(UniprotPerBindingMode),np.min(UniprotPerBindingMode),np.max(UniprotPerBindingMode))\n",
    "    print(\"CATH Per Binding Mode\",np.mean(CATHPerBindingMode),np.median(CATHPerBindingMode),np.min(CATHPerBindingMode),np.max(CATHPerBindingMode))\n",
    "    print(\"PFAM Per Binding Mode\",np.mean(PFAMPerBindingMode),np.median(PFAMPerBindingMode),np.min(PFAMPerBindingMode),np.max(PFAMPerBindingMode))"
   ]
  },
  {
   "cell_type": "code",
   "execution_count": null,
   "metadata": {
    "collapsed": false
   },
   "outputs": [],
   "source": [
    "for ikl in range(0,3):\n",
    "    torun = PixelDB\n",
    "    if ikl == 0:\n",
    "        print(\"Full\")\n",
    "    if ikl == 1:\n",
    "        torun = PixelDBecr\n",
    "        print(\"ECR\")\n",
    "    if ikl == 2:\n",
    "        torun = PixelDBoecr\n",
    "        print(\"ECRdist\")\n",
    "\n",
    "    UniquePFAM = []\n",
    "    UniqueUnip = []\n",
    "    UniqueCATH = []\n",
    "        \n",
    "    UniprotPerBindingMode = []\n",
    "    CATHPerBindingMode = []\n",
    "    PFAMPerBindingMode = []\n",
    "\n",
    "    StrPerBindingMode = []\n",
    "\n",
    "    for uniid in list(np.unique(torun[\"cluster_number\"])):\n",
    "        sdf = torun[torun[\"cluster_number\"] == uniid]\n",
    "        #print(sdf[\"sequence_alignment\"])\n",
    "        \n",
    "        StrPerBindingMode.append(len(sdf))\n",
    "        \n",
    "        Uniuni = []\n",
    "        for cid in sdf[\"uniprot\"]:\n",
    "            #print(cid.split(\"_\"))\n",
    "            if str(cid) != \"nan\":\n",
    "                Uniuni += cid.split(\"_\")\n",
    "        UniprotPerBindingMode.append(len(list(set(Uniuni))))\n",
    "        \n",
    "        \n",
    "        CATHuni = []\n",
    "        for cid in sdf[\"CATH\"]:\n",
    "            #print(cid.split(\"_\"))\n",
    "            if str(cid) != \"nan\":\n",
    "                CATHuni += cid.split(\"_\")\n",
    "        CATHPerBindingMode.append(len(list(set(CATHuni))))\n",
    "\n",
    "        PFAMuni = []\n",
    "        for cid in sdf[\"PFAM\"]:\n",
    "            #print(cid.split(\"_\"))\n",
    "            if str(cid) != \"nan\":\n",
    "                PFAMuni += cid.split(\"_\")\n",
    "        PFAMPerBindingMode.append(len(list(set(PFAMuni))))\n",
    "\n",
    "            #print(\"Binding mode with ECR and Core >= 4\",len(PixelDBecr[\"unique_id\"].value_counts()))\n",
    "    print(\"Unique Cluster\",len(np.unique(torun[\"cluster_number\"])))\n",
    "    print(\"Strc Per Cluster\",np.mean(StrPerBindingMode),np.median(StrPerBindingMode),np.min(StrPerBindingMode),np.max(StrPerBindingMode))\n",
    "    print(\"Uniprot Per Cluster\",np.mean(UniprotPerBindingMode),np.median(UniprotPerBindingMode),np.min(UniprotPerBindingMode),np.max(UniprotPerBindingMode))\n",
    "    print(\"CATH Per Cluster\",np.mean(CATHPerBindingMode),np.median(CATHPerBindingMode),np.min(CATHPerBindingMode),np.max(CATHPerBindingMode))\n",
    "    print(\"PFAM Per Cluster\",np.mean(PFAMPerBindingMode),np.median(PFAMPerBindingMode),np.min(PFAMPerBindingMode),np.max(PFAMPerBindingMode))"
   ]
  },
  {
   "cell_type": "code",
   "execution_count": null,
   "metadata": {
    "collapsed": false
   },
   "outputs": [],
   "source": [
    "len(PixelDBecr)"
   ]
  },
  {
   "cell_type": "code",
   "execution_count": null,
   "metadata": {
    "collapsed": true
   },
   "outputs": [],
   "source": [
    "\n",
    "for cid in PixelDBecr[\"CATH\"]:\n",
    "    if str(cid) != \"nan\":\n",
    "        CATHuni += cid.split(\"_\")\n",
    "    \n",
    "CATHPerBindingMode.append(len(list(set(CATHuni))))"
   ]
  },
  {
   "cell_type": "code",
   "execution_count": null,
   "metadata": {
    "collapsed": false
   },
   "outputs": [],
   "source": [
    "UniprotPerBindingModeECR = []\n",
    "CATHPerBindingModeECR = []\n",
    "PFAMPerBindingModeECR = []\n",
    "\n",
    "\n",
    "\n",
    "for uniid in list(np.unique(PixelDBecr[\"unique_id\"])):\n",
    "    sdf = PixelDBecr[PixelDBecr[\"unique_id\"] == uniid]\n",
    "    print(sdf[\"sequence_alignment\"])\n",
    "    UniprotPerBindingMode.append(np.sum(np.unique(sdf[\"uniprot\"]) != \"nan\"))\n",
    "    CATHuni = []\n",
    "    for cid in sdf[\"CATH\"]:\n",
    "        #print(cid.split(\"_\"))\n",
    "        if str(cid) != \"nan\":\n",
    "            CATHuni += cid.split(\"_\")\n",
    "    CATHPerBindingMode.append(len(list(set(CATHuni))))\n",
    "    \n",
    "    PFAMuni = []\n",
    "    for cid in sdf[\"PFAM\"]:\n",
    "        #print(cid.split(\"_\"))\n",
    "        if str(cid) != \"nan\":\n",
    "            PFAMuni += cid.split(\"_\")\n",
    "    PFAMPerBindingMode.append(len(list(set(PFAMuni))))\n",
    "    #print(list(set(CATHuni)))\n",
    "    #die"
   ]
  },
  {
   "cell_type": "code",
   "execution_count": null,
   "metadata": {
    "collapsed": false
   },
   "outputs": [],
   "source": [
    "plt.hist(CATHPerBindingMode,100)\n",
    "plt.show()"
   ]
  },
  {
   "cell_type": "code",
   "execution_count": null,
   "metadata": {
    "collapsed": false
   },
   "outputs": [],
   "source": [
    "#Load PFAM\n",
    "pdbmap_name = [\"PDB\",\"Chain\",\"unk\",\"name\",\"PFAM\",\"uniprot\",\"range\"]\n",
    "\n",
    "pdbmap = pd.read_table(path+\"other_files/pdbmap\",names=pdbmap_name,delimiter=\"\\t\")\n",
    "pdbmap = pdbmap.drop(\"unk\",axis=1)\n",
    "pdbmap_name = list(pdbmap.columns.values)\n",
    "for c in pdbmap_name:\n",
    "    pdbmap[c] = pdbmap[c].str.replace(';', '')"
   ]
  },
  {
   "cell_type": "code",
   "execution_count": null,
   "metadata": {
    "collapsed": false
   },
   "outputs": [],
   "source": [
    "#cath-b-newest-all\n",
    "cath_name = [\"PDB\",\"v\",\"CATH\",\"range\"]\n",
    "cathb = pd.read_table(path+\"other_files/cath-b-newest-all\",delimiter=\" \",names=cath_name)"
   ]
  },
  {
   "cell_type": "code",
   "execution_count": null,
   "metadata": {
    "collapsed": false
   },
   "outputs": [],
   "source": [
    "for ikl in range(0,3):\n",
    "    torun = PixelDB\n",
    "    if ikl == 0:\n",
    "        print(\"Full\")\n",
    "    if ikl == 1:\n",
    "        torun = PixelDBecr\n",
    "        print(\"ECR\")\n",
    "    if ikl == 2:\n",
    "        torun = PixelDBoecr\n",
    "        print(\"ECRdist\")\n",
    "    \n",
    "    UniquePFAM = dict()\n",
    "    for uniid in list(np.unique(torun[\"PFAM\"])):\n",
    "        if str(uniid) == \"nan\":\n",
    "            continue\n",
    "        for v in uniid.split(\"_\"):\n",
    "            #print(v)\n",
    "            if v not in UniquePFAM:\n",
    "                UniquePFAM[v] = 0\n",
    "            UniquePFAM[v] += 1\n",
    "        #break\n",
    "\n",
    "    UniqueCATH = dict()\n",
    "    for uniid in list(np.unique(torun[\"CATH\"])):\n",
    "        if str(uniid) == \"nan\":\n",
    "            continue\n",
    "        for v in uniid.split(\"_\"):\n",
    "            #print(v)\n",
    "            if v not in UniqueCATH:\n",
    "                UniqueCATH[v] = 0\n",
    "            UniqueCATH[v] += 1\n",
    "\n",
    "    UniqueUniprot = dict()\n",
    "    for uniid in list(np.unique(torun[\"uniprot\"])):\n",
    "        if str(uniid) == \"nan\":\n",
    "            continue\n",
    "        for v in uniid.split(\"_\"):\n",
    "            #print(v)\n",
    "            if v not in UniqueUniprot:\n",
    "                UniqueUniprot[v] = 0\n",
    "            UniqueUniprot[v] += 1\n",
    "\n",
    "\n",
    "    print(\"PDB has this many unique PFAM\",len(pdbmap[\"PFAM\"].value_counts()))\n",
    "    print(\"PixelDB has this many unique PFAM\",len(UniquePFAM))\n",
    "    print(\"Percentage = \",100.0*len(UniquePFAM) / float(len(pdbmap[\"PFAM\"].value_counts())))\n",
    "    #print(\"PixelDBecr has this many unique PFAM\",len(PixelDBecr[\"PFAM\"].value_counts()))\n",
    "\n",
    "    print(\"PDB has this many unique uniprot\",len(pdbmap[\"uniprot\"].value_counts()))\n",
    "    print(\"PixelDB has this many unique uniprot\",len(UniqueUniprot))\n",
    "\n",
    "    print(\"Percentage = \",100.0*len(UniqueUniprot) / float(len(pdbmap[\"uniprot\"].value_counts())))\n",
    "\n",
    "    #print(\"PixelDBecr has this many unique uniprot\",len(PixelDBecr[\"uniprot\"].value_counts()))\n",
    "    print(\"PDB has this many unique CATH\",len(cathb[\"CATH\"].value_counts()))\n",
    "    print(\"PixelDB has this many unique CATH\",len(UniqueCATH))\n",
    "\n",
    "    print(\"Percentage = \",100.0*len(UniqueCATH) / float(len(cathb[\"CATH\"].value_counts())))\n",
    "    \n",
    "    print(\"Most frequence Cath\")\n",
    "    for w in sorted(UniqueCATH, key=UniqueCATH.get, reverse=True)[0:3]:\n",
    "        print w, UniqueCATH[w]\n",
    "    print(\"Most frequence uniprot\")\n",
    "    for w in sorted(UniqueUniprot, key=UniqueUniprot.get, reverse=True)[0:3]:\n",
    "        print w, UniqueUniprot[w]\n",
    "    print(\"Most frequence PFAM\")\n",
    "    for w in sorted(UniquePFAM, key=UniquePFAM.get, reverse=True)[0:3]:\n",
    "        print w, UniquePFAM[w]"
   ]
  },
  {
   "cell_type": "code",
   "execution_count": null,
   "metadata": {
    "collapsed": false
   },
   "outputs": [],
   "source": [
    "allCarac = [\"resolution\",\"receptor_length\",\"peptide_length\",\"size_of_binding_mode\",\"longest_continuous_core\",\"longest_continuous_ecr\"]\n",
    "\n",
    "for v in allCarac:\n",
    "    AllMean = []\n",
    "    for uniid in list(np.unique(PixelDB[\"unique_id\"])):\n",
    "        sdf = PixelDB[PixelDB[\"unique_id\"] == uniid]\n",
    "        AllMean.append(np.mean(sdf[v]))\n",
    "    print(\"%30s Avg:%6.2f Std:%6.2f Median:%6.2f Min:%6.2f Max:%7.2f\" % (v,np.mean(AllMean),np.std(AllMean),np.median(AllMean),np.min(PixelDB[v]),np.max(PixelDB[v])))"
   ]
  },
  {
   "cell_type": "code",
   "execution_count": null,
   "metadata": {
    "collapsed": false
   },
   "outputs": [],
   "source": [
    "allCarac = [\"resolution\",\"receptor_length\",\"peptide_length\",\"size_of_binding_mode\",\"longest_continuous_core\",\"longest_continuous_ecr\"]\n",
    "\n",
    "for v in allCarac:\n",
    "    AllMean = []\n",
    "    for uniid in list(np.unique(PixelDBecr[\"unique_id\"])):\n",
    "        sdf = PixelDBecr[PixelDBecr[\"unique_id\"] == uniid]\n",
    "        AllMean.append(np.mean(sdf[v]))\n",
    "    \n",
    "    print(\"%30s Avg:%6.2f Std:%6.2f Median:%6.2f Min:%6.2f Max:%7.2f\" % (v,np.mean(AllMean),np.std(AllMean),np.median(AllMean),np.min(PixelDBecr[v]),np.max(PixelDBecr[v])))"
   ]
  },
  {
   "cell_type": "code",
   "execution_count": null,
   "metadata": {
    "collapsed": false
   },
   "outputs": [],
   "source": [
    "allCarac = [\"resolution\",\"receptor_length\",\"peptide_length\",\"size_of_binding_mode\",\"longest_continuous_core\",\"longest_continuous_ecr\"]\n",
    "PixelDBoecr = PixelDB[PixelDB[\"longest_continuous_ecr\"] > 3]\n",
    "for v in allCarac:\n",
    "    AllMean = []\n",
    "    for uniid in list(np.unique(PixelDBoecr[\"unique_id\"])):\n",
    "        sdf = PixelDBoecr[PixelDBoecr[\"unique_id\"] == uniid]\n",
    "        AllMean.append(np.mean(sdf[v]))\n",
    "    \n",
    "    print(\"%30s Avg:%6.2f Std:%6.2f Median:%6.2f Min:%6.2f Max:%7.2f\" % (v,np.mean(AllMean),np.std(AllMean),np.median(AllMean),np.min(PixelDBoecr[v]),np.max(PixelDBoecr[v])))"
   ]
  },
  {
   "cell_type": "code",
   "execution_count": null,
   "metadata": {
    "collapsed": false
   },
   "outputs": [],
   "source": [
    "PixelDB.sort([\"peptide_length\"],ascending=False).head(5)[[\"name\",\"size_of_binding_mode\",\"cluster_number\",\"receptor_length\",\"peptide_length\"]]"
   ]
  },
  {
   "cell_type": "code",
   "execution_count": null,
   "metadata": {
    "collapsed": false
   },
   "outputs": [],
   "source": [
    "PixelDB.sort([\"receptor_length\"]).head(5)[[\"name\",\"size_of_binding_mode\",\"cluster_number\",\"receptor_length\",\"peptide_length\"]]"
   ]
  },
  {
   "cell_type": "code",
   "execution_count": null,
   "metadata": {
    "collapsed": true
   },
   "outputs": [],
   "source": [
    "def bootstrap(AllCore,AllECR,it=10000):\n",
    "    BtECR = dict()\n",
    "    BtCore = dict()\n",
    "    for lab in Label:\n",
    "        BtECR[lab] = []\n",
    "        BtCore[lab] = []\n",
    "    for it in range(0,it):\n",
    "        ECRMean = []\n",
    "        CoreMean = []\n",
    "        for aa in Label:\n",
    "\n",
    "            index = np.random.randint(len(AllECR), size=len(AllECR[aa]))\n",
    "\n",
    "            ECRMean.append(np.sum(np.array(AllECR[aa])[index]))\n",
    "            CoreMean.append(np.sum(np.array(AllCore[aa])[index]))\n",
    "        ECRMean = np.array(ECRMean)/np.sum(ECRMean)*100.0\n",
    "        CoreMean = np.array(CoreMean)/np.sum(CoreMean)*100.0\n",
    "        for i in range(0,len(ECRMean)):\n",
    "            BtECR[Label[i]].append(ECRMean[i])\n",
    "            BtCore[Label[i]].append(CoreMean[i])\n",
    "    return(BtCore,BtECR)"
   ]
  },
  {
   "cell_type": "code",
   "execution_count": null,
   "metadata": {
    "collapsed": true
   },
   "outputs": [],
   "source": [
    "AllMeanData = dict()"
   ]
  },
  {
   "cell_type": "code",
   "execution_count": null,
   "metadata": {
    "collapsed": true
   },
   "outputs": [],
   "source": [
    "PixelDBoecr = PixelDB[PixelDB[\"longest_continuous_ecr\"] > 3]"
   ]
  },
  {
   "cell_type": "code",
   "execution_count": null,
   "metadata": {
    "collapsed": false,
    "scrolled": false
   },
   "outputs": [],
   "source": [
    "LegendLabel = [\"Solvent Exposure [0-9]\",\"Levy Classification\",\"Stride Classifcation\", \"Amino Acid compostion\"]\n",
    "ToTest = [\"percent_exposed_alignment\",\"levy_alignment\",\"stride\",\"sequence_alignment\"]\n",
    "\n",
    "#LegendLabel = [\"Solvent Exposure [0-9]\",\"Stride Classifcation\"]\n",
    "#ToTest = [\"percent_exposed_alignment\",\"stride\"]\n",
    "\n",
    "\n",
    "for (alin,LL) in zip(ToTest,LegendLabel):\n",
    "    if alin not in list(PixelDBoecr.columns.values):\n",
    "        continue\n",
    "    AllMeanData[LL] = dict()\n",
    "    print(alin)\n",
    "    \n",
    "    AllECR = dict()\n",
    "    AllCore = dict()\n",
    "    \n",
    "    \n",
    "    SumCore = 0.0\n",
    "    SumECR = 0.0\n",
    "    \n",
    "    #Find Label\n",
    "    Label = []\n",
    "    for v in PixelDBoecr[alin]:\n",
    "        for i in range(0,len(v)):\n",
    "            if v[i] == \"-\":\n",
    "                continue\n",
    "            Label.append(v[i])\n",
    "    Label = sorted(list(set(Label)))\n",
    "    if alin == \"sequence_alignment\":\n",
    "        Label = myAmino\n",
    "    \n",
    "    df = pd.DataFrame()\n",
    "    \n",
    "    print(alin,Label)\n",
    "    count = 0\n",
    "    for uniid in list(np.unique(PixelDBoecr[\"unique_id\"])):\n",
    "        \n",
    "        Tecr = dict()\n",
    "        Tcore = dict()\n",
    "        Totecr = 0.0\n",
    "        Totcore = 0.0\n",
    "        \n",
    "        sdf = PixelDBoecr[PixelDBoecr[\"unique_id\"] == uniid]\n",
    "        \n",
    "        for (ecr,ali,lecr) in zip(np.array(sdf[\"core_ecr_alignment\"]),np.array(sdf[alin]),np.array(sdf[\"longest_continuous_ecr\"])):\n",
    "            \n",
    "            if lecr < 4:\n",
    "                continue\n",
    "            #print(ecr,ali[0])\n",
    "            #ali = ali[0]\n",
    "            #print(ali,lecr)\n",
    "            for i in range(0,len(ecr)):\n",
    "                #if alin == \"sequence_alignment\":\n",
    "                #    if levy[i] != \"C\":\n",
    "                #        continue\n",
    "                if ecr[i] == \"E\":\n",
    "                    if ali[i] not in Tecr:\n",
    "                        Tecr[ali[i]] = 0.0\n",
    "                    Tecr[ali[i]] += 1.0\n",
    "                    Totecr += 1.0\n",
    "                    SumECR += 1.0\n",
    "                    \n",
    "                if ecr[i] == \"C\":\n",
    "                    if ali[i] not in Tcore:\n",
    "                        Tcore[ali[i]] = 0.0\n",
    "                    Tcore[ali[i]] += 1.0\n",
    "                    Totcore += 1.0\n",
    "                    SumCore += 1.0\n",
    "                #print(ali[i],ecr[i])\n",
    "            #break\n",
    "        \n",
    "        for aa in Label:\n",
    "            if aa not in Tecr:\n",
    "                Tecr[aa] = 0.0\n",
    "            #print(aa,Tecr[aa],Totecr)\n",
    "            if aa not in AllECR:\n",
    "                AllECR[aa] = []\n",
    "            \n",
    "            AllECR[aa].append(Tecr[aa] / float(Totecr))\n",
    "\n",
    "            if aa not in Tcore:\n",
    "                Tcore[aa] = 0.0\n",
    "            if aa not in AllCore:\n",
    "                AllCore[aa] = []\n",
    "            AllCore[aa].append(Tcore[aa] / float(Totcore))\n",
    "            count += 1\n",
    "            df = df.append({'class': 'Core', 'AA': aa, 'percentage': Tcore[aa] / float(Totcore)}, ignore_index=True)\n",
    "            df = df.append({'class': 'ECR', 'AA': aa, 'percentage': Tecr[aa] / float(Totecr)}, ignore_index=True)  \n",
    "        \n",
    "        #break\n",
    "    print(SumCore,SumECR)\n",
    "    ECRMean = []\n",
    "    CoreMean = []\n",
    "    \n",
    "    (BtCore,BtECR) = bootstrap(AllCore,AllECR,it=10000)\n",
    "    \n",
    "    \n",
    "    for aa in Label:\n",
    "        ECRMean.append(np.mean(BtECR[aa]))\n",
    "        CoreMean.append(np.mean(BtCore[aa]))\n",
    "        \n",
    "        \n",
    "    plt.scatter(CoreMean,ECRMean)\n",
    "    for i in range(0,len(Label)):\n",
    "        ttest = stats.ttest_rel(BtECR[Label[i]], BtCore[Label[i]])[1]\n",
    "        print(\"%2d %2s P.val=%10.8f Core:%6.2f ECR:%6.2f\" % (i,Label[i],ttest,CoreMean[i],ECRMean[i]))\n",
    "        #print(i,Label[i],ttest,\"CORE:%4.2f \" % (CoreMean[i]),\"ECR\",ECRMean[i])\n",
    "        if Label[i] not in AllMeanData[LL]:\n",
    "            AllMeanData[LL][Label[i]] = dict()\n",
    "        AllMeanData[LL][Label[i]][\"ECR\"] = [ECRMean[i],np.std(BtECR[Label[i]]) ]\n",
    "        AllMeanData[LL][Label[i]][\"Core\"] = [CoreMean[i],np.std(BtCore[Label[i]])]\n",
    "        if ttest < 0.05:\n",
    "            plt.text(CoreMean[i]+0.15,ECRMean[i]+0.15,Label[i])\n",
    "            \n",
    "    Lim = [-3,int(np.max(ECRMean+CoreMean)*1.1)]\n",
    "    #print(Lim)\n",
    "    #Lim = [-1,10]\n",
    "    plt.plot(Lim,Lim,c=\"black\")\n",
    "    plt.xlim(Lim)\n",
    "    plt.ylim(Lim)\n",
    "    plt.xlabel(\"Core \"+LL+\" %\")\n",
    "    plt.ylabel(\"ECR \"+LL+\" %\")\n",
    "    plt.show() \n",
    "    \n",
    "    sns.boxplot(x=\"AA\",hue=\"class\",y=\"percentage\",data=df)\n",
    "    plt.show()"
   ]
  },
  {
   "cell_type": "code",
   "execution_count": null,
   "metadata": {
    "collapsed": false
   },
   "outputs": [],
   "source": [
    "Label = myAmino\n",
    "Color = [\"red\"]*3+[\"blue\"]*2+[\"purple\"]*4+[\"black\"]*3+[\"green\"]*5+[\"yellow\"]*3\n",
    "LL= \"Amino Acid buried\"\n",
    "AllMeanData[LL] = dict()\n",
    "for i in range(0,len(Label)):\n",
    "    plt.scatter(CoreMean[i],ECRMean[i],c=Color[i])\n",
    "    ttest = stats.ttest_rel(BtECR[Label[i]], BtCore[Label[i]])[1]\n",
    "    print(\"%2d %2s P.val=%10.8f Core:%6.2f ECR:%6.2f\" % (i,Label[i],ttest,CoreMean[i],ECRMean[i]))\n",
    "    \n",
    "    if Label[i] not in AllMeanData[LL]:\n",
    "        AllMeanData[LL][Label[i]] = dict()\n",
    "    AllMeanData[LL][Label[i]][\"ECR\"] = [ECRMean[i],np.std(BtECR[Label[i]]) ]\n",
    "    AllMeanData[LL][Label[i]][\"Core\"] = [CoreMean[i],np.std(BtCore[Label[i]])]\n",
    "    \n",
    "    \n",
    "    #print(i,Label[i],ttest,\"CORE:%4.2f \" % (CoreMean[i]),\"ECR\",ECRMean[i])\n",
    "    #if ttest < 0.05:\n",
    "    plt.text(CoreMean[i]+0.15,ECRMean[i]+0.15,Label[i],color=Color[i])\n",
    "Lim = [-3,int(np.max(ECRMean+CoreMean)*1.1)]\n",
    "#print(Lim)\n",
    "Lim = [-1,15]\n",
    "plt.plot(Lim,Lim,c=\"black\")\n",
    "plt.xlim(Lim)\n",
    "plt.ylim(Lim)\n",
    "plt.xlabel(\"Core composition (%)\")\n",
    "plt.ylabel(\"ECR composition (%)\")\n",
    "plt.show()\n"
   ]
  },
  {
   "cell_type": "code",
   "execution_count": null,
   "metadata": {
    "collapsed": true
   },
   "outputs": [],
   "source": []
  },
  {
   "cell_type": "code",
   "execution_count": null,
   "metadata": {
    "collapsed": false
   },
   "outputs": [],
   "source": [
    "AllECR = dict()\n",
    "AllCore = dict()\n",
    "AllSurf = dict()\n",
    "AllInte = dict()\n",
    "\n",
    "\n",
    "SumCore = 0.0\n",
    "SumECR = 0.0\n",
    "SumSurf = 0.0\n",
    "SumInte = 0.0\n",
    "\n",
    "for aa in myAmino:\n",
    "    AllECR[aa] = []\n",
    "    AllCore[aa] = []\n",
    "    AllSurf[aa] = []\n",
    "    AllInte[aa] = []\n",
    "Label = myAmino\n",
    "for uniid in list(np.unique(PixelDBoecr[\"unique_id\"])):\n",
    "    sdf = PixelDBoecr[PixelDBoecr[\"unique_id\"] == uniid]\n",
    "    Tecr = dict()\n",
    "    Tcore = dict()\n",
    "    Tsurf = dict()\n",
    "    Tinte = dict()\n",
    "    Totecr = 0.0\n",
    "    Totcore = 0.0\n",
    "    Totsurf = 0.0\n",
    "    Totinte = 0.0\n",
    "    for v in sdf[\"EXOSITE_aa\"]:\n",
    "        for aa in v.split(\";\"):\n",
    "            sp = aa.split(\":\")\n",
    "            if sp[0] not in Tecr:\n",
    "                Tecr[sp[0]] = 0\n",
    "            Tecr[sp[0]] += float(sp[1])\n",
    "            Totecr += float(sp[1])\n",
    "            SumECR += float(sp[1])\n",
    "    for v in sdf[\"surface_aa\"]:\n",
    "        for aa in v.split(\";\"):\n",
    "            sp = aa.split(\":\")\n",
    "            if sp[0] not in Tsurf:\n",
    "                Tsurf[sp[0]] = 0\n",
    "            Tsurf[sp[0]] += float(sp[1])\n",
    "            Totsurf += float(sp[1])\n",
    "            SumSurf += float(sp[1])\n",
    "    for v in sdf[\"interior_aa\"]:\n",
    "        \n",
    "        for aa in v.split(\";\"):\n",
    "            sp = aa.split(\":\")\n",
    "            if sp[0] not in Tinte:\n",
    "                Tinte[sp[0]] = 0\n",
    "            Tinte[sp[0]] += float(sp[1])\n",
    "            Totinte += float(sp[1])\n",
    "            SumInte += float(sp[1])\n",
    "            \n",
    "    for v in sdf[\"COREBINDING_aa\"]:\n",
    "        for aa in v.split(\";\"):\n",
    "            sp = aa.split(\":\")\n",
    "            if sp[0] not in Tcore:\n",
    "                Tcore[sp[0]] = 0\n",
    "            Tcore[sp[0]] += float(sp[1])\n",
    "            Totcore += float(sp[1])\n",
    "            SumCore += float(sp[1])        \n",
    "    \n",
    "    Label = myAmino\n",
    "    for aa in Label:\n",
    "        if aa not in Tecr:\n",
    "            Tecr[aa] = 0.0\n",
    "        #print(aa,Tecr[aa],Totecr)\n",
    "        if aa not in AllECR:\n",
    "            AllECR[aa] = []\n",
    "        if (Totecr != 0):\n",
    "            AllECR[aa].append(Tecr[aa] / float(Totecr))\n",
    "        else:\n",
    "            AllECR[aa].append(0)\n",
    "\n",
    "        if aa not in Tcore:\n",
    "            Tcore[aa] = 0.0\n",
    "        if aa not in AllCore:\n",
    "            AllCore[aa] = []\n",
    "        if Totcore != 0:\n",
    "            AllCore[aa].append(Tcore[aa] / float(Totcore))\n",
    "        else:\n",
    "            AllCore[aa].append(0)\n",
    "            \n",
    "            \n",
    "        if aa not in Tsurf:\n",
    "            Tsurf[aa] = 0.0\n",
    "        if aa not in AllSurf:\n",
    "            AllSurf[aa] = []\n",
    "        if Totsurf != 0:\n",
    "            AllSurf[aa].append(Tsurf[aa] / float(Totsurf))\n",
    "        else:\n",
    "            AllSurf[aa].append(0)\n",
    "            \n",
    "        if aa not in Tinte:\n",
    "            Tinte[aa] = 0.0\n",
    "        if aa not in AllInte:\n",
    "            AllInte[aa] = []\n",
    "        if Totinte != 0:\n",
    "            AllInte[aa].append(Tinte[aa] / float(Totinte))\n",
    "        else:\n",
    "            AllInte[aa].append(0)\n",
    "ECRMean = []\n",
    "CoreMean = []\n",
    "SurfMean = []\n",
    "InteMean = []\n",
    "\n",
    "(BtCore,BtECR) = bootstrap(AllCore,AllECR,it=10000)\n",
    "\n",
    "(BtInte,BtSurf) = bootstrap(AllInte,AllSurf,it=10000)\n",
    "\n",
    "Label = myAmino\n",
    "for aa in Label:\n",
    "    ECRMean.append(np.mean(BtECR[aa]))\n",
    "    CoreMean.append(np.mean(BtCore[aa]))\n",
    "    SurfMean.append(np.mean(BtSurf[aa]))\n",
    "    InteMean.append(np.mean(BtInte[aa]))"
   ]
  },
  {
   "cell_type": "code",
   "execution_count": null,
   "metadata": {
    "collapsed": false
   },
   "outputs": [],
   "source": [
    "print(SumCore,SumECR,SumSurf,SumInte)"
   ]
  },
  {
   "cell_type": "code",
   "execution_count": null,
   "metadata": {
    "collapsed": false
   },
   "outputs": [],
   "source": [
    "\n",
    "Color = [\"red\"]*3+[\"blue\"]*2+[\"purple\"]*4+[\"black\"]*3+[\"green\"]*5+[\"yellow\"]*3\n",
    "\n",
    "LL= \"Binding Site\"\n",
    "AllMeanData[LL] = dict()\n",
    "\n",
    "\n",
    "for i in range(0,len(Label)):\n",
    "    ttest = stats.ttest_rel(BtSurf[Label[i]], BtCore[Label[i]])[1]\n",
    "    print(\"%2d %2s P.val=%10.8f Core:%4.2f ECR:%4.2f Surf:%4.2f Inte:%.2f\" % (i,Label[i],ttest,CoreMean[i],ECRMean[i],SurfMean[i],InteMean[i]))\n",
    "    if Label[i] not in AllMeanData[LL]:\n",
    "        AllMeanData[LL][Label[i]] = dict()\n",
    "    AllMeanData[LL][Label[i]][\"ECR\"] = [ECRMean[i],np.std(BtECR[Label[i]]) ]\n",
    "    AllMeanData[LL][Label[i]][\"Core\"] = [CoreMean[i],np.std(BtCore[Label[i]])]    \n",
    "    AllMeanData[LL][Label[i]][\"Surf\"] = [SurfMean[i],np.std(BtSurf[Label[i]])]\n",
    "    AllMeanData[LL][Label[i]][\"Inte\"] = [InteMean[i],np.std(BtInte[Label[i]])]\n",
    "        \n"
   ]
  },
  {
   "cell_type": "code",
   "execution_count": null,
   "metadata": {
    "collapsed": false,
    "scrolled": false
   },
   "outputs": [],
   "source": [
    "AllMean = [CoreMean,ECRMean,SurfMean,InteMean]\n",
    "MeanLab = [\"CoreBinding\",\"Exosite\",\"Surface\",\"Interior\"]\n",
    "AllMSE = dict()\n",
    "AllComp = dict()\n",
    "for (arr1,lab1) in zip(AllMean,MeanLab):\n",
    "    AllMSE[lab1] = dict()\n",
    "    AllComp[lab1] = dict()\n",
    "    for i in range(0,20):\n",
    "        AllComp[lab1][myAmino[i]] = arr1[i]\n",
    "    for (arr2,lab2) in zip(AllMean,MeanLab):\n",
    "        plt.scatter(arr1,arr2)\n",
    "        plt.xlabel(lab1)\n",
    "        plt.ylabel(lab2)\n",
    "        for i in range(0,20):\n",
    "            plt.text(arr1[i]+0.15,arr2[i]+0.15,Label[i],color=Color[i])\n",
    "        plt.xlim(0,20)\n",
    "        plt.ylim(0,20)\n",
    "        plt.plot([0,100],[0,100])\n",
    "        plt.show()\n",
    "        #AllMSE[lab1][lab2] = np.sqrt(np.mean(np.power(np.array(arr1)-np.array(arr2),2)))\n",
    "        AllMSE[lab1][lab2] = np.corrcoef(arr1,arr2)[0][1]\n",
    "        print(lab1,lab2,np.sqrt(np.mean(np.power(np.array(arr1)-np.array(arr2),2))),np.corrcoef(arr1,arr2)[0][1])\n",
    "sns.clustermap(pd.DataFrame(AllMSE))\n",
    "plt.show()\n",
    "sns.clustermap(pd.DataFrame(AllComp))\n",
    "plt.show()\n",
    "\n",
    "sns.heatmap(pd.DataFrame(AllComp).transpose()[myAmino].transpose(),annot=True)\n",
    "plt.show()\n",
    "#print(\"Core vs Exosite %.2f\" % (np.sqrt(np.mean(np.power(np.array(CoreMean)-np.array(ECRMean),2)))))\n",
    "#print(\"Core vs Surface %.2f\" % (np.sqrt(np.mean(np.power(np.array(CoreMean)-np.array(SurfMean),2)))))\n",
    "#print(\"Exosite  vs Surface %.2f\" % (np.sqrt(np.mean(np.power(np.array(ECRMean)-np.array(SurfMean),2)))))"
   ]
  },
  {
   "cell_type": "code",
   "execution_count": null,
   "metadata": {
    "collapsed": false
   },
   "outputs": [],
   "source": []
  },
  {
   "cell_type": "code",
   "execution_count": null,
   "metadata": {
    "collapsed": true
   },
   "outputs": [],
   "source": []
  },
  {
   "cell_type": "code",
   "execution_count": null,
   "metadata": {
    "collapsed": false
   },
   "outputs": [],
   "source": [
    "AllECR = dict()\n",
    "AllCore = dict()\n",
    "AllSurf = dict()\n",
    "AllInte = dict()\n",
    "\n",
    "\n",
    "SumCore = 0.0\n",
    "SumECR = 0.0\n",
    "SumSurf = 0.0\n",
    "SumInte = 0.0\n",
    "\n",
    "for aa in myAmino:\n",
    "    AllECR[aa] = []\n",
    "    AllCore[aa] = []\n",
    "    AllSurf[aa] = []\n",
    "    AllInte[aa] = []\n",
    "Label = ['B', 'C', 'E', 'G', 'H', 'T', 'b']\n",
    "for uniid in list(np.unique(PixelDBoecr[\"unique_id\"])):\n",
    "    sdf = PixelDBoecr[PixelDBoecr[\"unique_id\"] == uniid]\n",
    "    Tecr = dict()\n",
    "    Tcore = dict()\n",
    "    Tsurf = dict()\n",
    "    Tinte = dict()\n",
    "    Totecr = 0.0\n",
    "    Totcore = 0.0\n",
    "    Totsurf = 0.0\n",
    "    Totinte = 0.0\n",
    "    for v in sdf[\"EXOSITE_ss\"]:\n",
    "        for aa in v.split(\";\"):\n",
    "            sp = aa.split(\":\")\n",
    "            if sp[0] not in Tecr:\n",
    "                Tecr[sp[0]] = 0\n",
    "            Tecr[sp[0]] += float(sp[1])\n",
    "            Totecr += float(sp[1])\n",
    "            SumECR += float(sp[1])\n",
    "    for v in sdf[\"surface_ss\"]:\n",
    "        for aa in v.split(\";\"):\n",
    "            sp = aa.split(\":\")\n",
    "            if sp[0] not in Tsurf:\n",
    "                Tsurf[sp[0]] = 0\n",
    "            Tsurf[sp[0]] += float(sp[1])\n",
    "            Totsurf += float(sp[1])\n",
    "            SumSurf += float(sp[1])\n",
    "    for v in sdf[\"interior_ss\"]:\n",
    "        \n",
    "        for aa in v.split(\";\"):\n",
    "            sp = aa.split(\":\")\n",
    "            if sp[0] not in Tinte:\n",
    "                Tinte[sp[0]] = 0\n",
    "            Tinte[sp[0]] += float(sp[1])\n",
    "            Totinte += float(sp[1])\n",
    "            SumInte += float(sp[1])\n",
    "            \n",
    "    for v in sdf[\"COREBINDING_ss\"]:\n",
    "        for aa in v.split(\";\"):\n",
    "            sp = aa.split(\":\")\n",
    "            if sp[0] not in Tcore:\n",
    "                Tcore[sp[0]] = 0\n",
    "            Tcore[sp[0]] += float(sp[1])\n",
    "            Totcore += float(sp[1])\n",
    "            SumCore += float(sp[1])        \n",
    "    \n",
    "    for aa in Label:\n",
    "        if aa not in Tecr:\n",
    "            Tecr[aa] = 0.0\n",
    "        #print(aa,Tecr[aa],Totecr)\n",
    "        if aa not in AllECR:\n",
    "            AllECR[aa] = []\n",
    "        if (Totecr != 0):\n",
    "            AllECR[aa].append(Tecr[aa] / float(Totecr))\n",
    "        else:\n",
    "            AllECR[aa].append(0)\n",
    "\n",
    "        if aa not in Tcore:\n",
    "            Tcore[aa] = 0.0\n",
    "        if aa not in AllCore:\n",
    "            AllCore[aa] = []\n",
    "        if Totcore != 0:\n",
    "            AllCore[aa].append(Tcore[aa] / float(Totcore))\n",
    "        else:\n",
    "            AllCore[aa].append(0)\n",
    "            \n",
    "            \n",
    "        if aa not in Tsurf:\n",
    "            Tsurf[aa] = 0.0\n",
    "        if aa not in AllSurf:\n",
    "            AllSurf[aa] = []\n",
    "        if Totsurf != 0:\n",
    "            AllSurf[aa].append(Tsurf[aa] / float(Totsurf))\n",
    "        else:\n",
    "            AllSurf[aa].append(0)\n",
    "            \n",
    "        if aa not in Tinte:\n",
    "            Tinte[aa] = 0.0\n",
    "        if aa not in AllInte:\n",
    "            AllInte[aa] = []\n",
    "        if Totinte != 0:\n",
    "            AllInte[aa].append(Tinte[aa] / float(Totinte))\n",
    "        else:\n",
    "            AllInte[aa].append(0)\n",
    "ECRMean = []\n",
    "CoreMean = []\n",
    "SurfMean = []\n",
    "InteMean = []\n",
    "\n",
    "(BtCore,BtECR) = bootstrap(AllCore,AllECR,it=10000)\n",
    "\n",
    "(BtInte,BtSurf) = bootstrap(AllInte,AllSurf,it=10000)\n",
    "\n",
    "for aa in Label:\n",
    "    ECRMean.append(np.mean(BtECR[aa]))\n",
    "    CoreMean.append(np.mean(BtCore[aa]))\n",
    "    SurfMean.append(np.mean(BtSurf[aa]))\n",
    "    InteMean.append(np.mean(BtInte[aa]))"
   ]
  },
  {
   "cell_type": "code",
   "execution_count": null,
   "metadata": {
    "collapsed": false,
    "scrolled": false
   },
   "outputs": [],
   "source": [
    "AllMean = [CoreMean,ECRMean,SurfMean,InteMean]\n",
    "MeanLab = [\"CoreBinding\",\"Exosite\",\"Surface\",\"Interior\"]\n",
    "AllMSE = dict()\n",
    "AllComp = dict()\n",
    "for (arr1,lab1) in zip(AllMean,MeanLab):\n",
    "    AllMSE[lab1] = dict()\n",
    "    AllComp[lab1] = dict()\n",
    "    for i in range(0,len(Label)):\n",
    "        AllComp[lab1][Label[i]] = arr1[i]\n",
    "    for (arr2,lab2) in zip(AllMean,MeanLab):\n",
    "        #plt.scatter(arr1,arr2)\n",
    "        #plt.xlabel(lab1)\n",
    "        #plt.ylabel(lab2)\n",
    "        #for i in range(0,20):\n",
    "        #    plt.text(arr1[i]+0.15,arr2[i]+0.15,Label[i],color=Color[i])\n",
    "        #plt.show()\n",
    "        AllMSE[lab1][lab2] = np.sqrt(np.mean(np.power(np.array(arr1)-np.array(arr2),2)))\n",
    "        print(lab1,lab2,np.sqrt(np.mean(np.power(np.array(arr1)-np.array(arr2),2))))\n",
    "sns.clustermap(pd.DataFrame(AllMSE))\n",
    "plt.show()\n",
    "sns.heatmap(pd.DataFrame(AllMSE),annot=True)\n",
    "plt.show()\n",
    "sns.clustermap(pd.DataFrame(AllComp))\n",
    "plt.show()\n",
    "\n",
    "sns.heatmap(pd.DataFrame(AllComp).transpose()[Label].transpose(),annot=True)\n",
    "plt.show()\n",
    "#print(\"Core vs Exosite %.2f\" % (np.sqrt(np.mean(np.power(np.array(CoreMean)-np.array(ECRMean),2)))))\n",
    "#print(\"Core vs Surface %.2f\" % (np.sqrt(np.mean(np.power(np.array(CoreMean)-np.array(SurfMean),2)))))\n",
    "#print(\"Exosite  vs Surface %.2f\" % (np.sqrt(np.mean(np.power(np.array(ECRMean)-np.array(SurfMean),2)))))"
   ]
  },
  {
   "cell_type": "code",
   "execution_count": null,
   "metadata": {
    "collapsed": false
   },
   "outputs": [],
   "source": [
    "\n",
    "Color = [\"red\"]*3+[\"blue\"]*2+[\"purple\"]*4+[\"black\"]*3+[\"green\"]*5+[\"yellow\"]*3\n",
    "\n",
    "LL= \"Binding Site SS\"\n",
    "AllMeanData[LL] = dict()\n",
    "\n",
    "\n",
    "for i in range(0,len(Label)):\n",
    "    ttest = stats.ttest_rel(BtSurf[Label[i]], BtCore[Label[i]])[1]\n",
    "    print(\"%2d %2s P.val=%10.8f Core:%4.2f ECR:%4.2f Surf:%4.2f Inte:%.2f\" % (i,Label[i],ttest,CoreMean[i],ECRMean[i],SurfMean[i],InteMean[i]))\n",
    "    if Label[i] not in AllMeanData[LL]:\n",
    "        AllMeanData[LL][Label[i]] = dict()\n",
    "    AllMeanData[LL][Label[i]][\"ECR\"] = [ECRMean[i],np.std(BtECR[Label[i]]) ]\n",
    "    AllMeanData[LL][Label[i]][\"Core\"] = [CoreMean[i],np.std(BtCore[Label[i]])]    \n",
    "    AllMeanData[LL][Label[i]][\"Surf\"] = [SurfMean[i],np.std(BtSurf[Label[i]])]\n",
    "    AllMeanData[LL][Label[i]][\"Inte\"] = [InteMean[i],np.std(BtInte[Label[i]])]\n",
    "        \n"
   ]
  },
  {
   "cell_type": "code",
   "execution_count": null,
   "metadata": {
    "collapsed": false,
    "scrolled": false
   },
   "outputs": [],
   "source": [
    "figsize(20,8)\n",
    "Test = [\"Amino Acid\",\"Stride Classifcation\",\"Solvent Exposure [0-9]\",\"Binding Site\",\"Binding Site SS\"]\n",
    "Test = AllMeanData.keys()\n",
    "Label = Test\n",
    "\n",
    "Order = [\"Core\",\"ECR\",\"Surf\",\"Inte\"]\n",
    "Col = [\"darkred\",\"darkblue\",\"gray\",\"black\"]\n",
    "\n",
    "pos = 0.0\n",
    "for test in Test:\n",
    "    pos = 0.0\n",
    "    pos += 1.0\n",
    "    \n",
    "    sub = AllMeanData[test]\n",
    "    #print(len(sub))\n",
    "    Tlab = sorted(sub)\n",
    "    if len(Tlab) == 20:\n",
    "        Tlab = myAmino\n",
    "    Xlabpos = []\n",
    "    \n",
    "    for t in Tlab:\n",
    "        Tpos = []\n",
    "        \n",
    "        for o in Order:\n",
    "            if o not in sub[t]:\n",
    "                continue\n",
    "            plt.bar([pos],sub[t][o][0],color=Col[Order.index(o)])\n",
    "            plt.plot([pos+0.4,pos+0.4],[sub[t][o][0],sub[t][o][0]+sub[t][o][1]],color=\"black\")\n",
    "            \n",
    "            plt.plot([pos+0.1,pos+0.7],[sub[t][o][0]+sub[t][o][1]]*2,color=\"black\")\n",
    "            \n",
    "            Tpos.append(pos)\n",
    "            pos += 1.0\n",
    "        Xlabpos.append(np.mean(Tpos)+0.5)\n",
    "        pos += 1\n",
    "        #print(t)\n",
    "    #break\n",
    "    plt.xticks(Xlabpos, Tlab)\n",
    "    plt.title(test)\n",
    "    plt.show()"
   ]
  },
  {
   "cell_type": "code",
   "execution_count": null,
   "metadata": {
    "collapsed": false
   },
   "outputs": [],
   "source": [
    "AllMeanData.keys()"
   ]
  },
  {
   "cell_type": "code",
   "execution_count": null,
   "metadata": {
    "collapsed": false
   },
   "outputs": [],
   "source": [
    "mpl.style.use('seaborn-whitegrid')"
   ]
  },
  {
   "cell_type": "code",
   "execution_count": null,
   "metadata": {
    "collapsed": false,
    "scrolled": false
   },
   "outputs": [],
   "source": [
    "figsize(20,8)\n",
    "Test = [\"Binding Site\",\"Amino Acid compostion\",\"Solvent Exposure [0-9]\"]\n",
    "Label = [\"Receptor Amino Acid Composition (%)\",\"Peptide Amino Acid Composition (%)\",\"Solvent Exposure (%)\"]\n",
    "Order = [\"Core\",\"ECR\",\"Surf\",\"Inte\"]\n",
    "Col = [\"darkred\",\"darkblue\",\"gray\",\"black\"]\n",
    "Color = [\"red\"]*3+[\"blue\"]*2+[\"purple\"]*4+[\"black\"]*3+[\"green\"]*5+[\"yellow\"]*3\n",
    "pos = 0.0\n",
    "for (test,lab) in zip(Test,Label):\n",
    "    pos = 0.0\n",
    "    pos += 1.0\n",
    "    \n",
    "    sub = AllMeanData[test]\n",
    "    #print(len(sub))\n",
    "    Tlab = sorted(sub)\n",
    "    if len(Tlab) == 20:\n",
    "        Tlab = myAmino\n",
    "    Xlabpos = []\n",
    "    \n",
    "    for t in Tlab:\n",
    "        Tpos = []\n",
    "        \n",
    "        for o in Order:\n",
    "            if o not in sub[t]:\n",
    "                continue\n",
    "            plt.bar([pos],sub[t][o][0],color=Col[Order.index(o)])\n",
    "            plt.plot([pos,pos],[sub[t][o][0],sub[t][o][0]+sub[t][o][1]],color=\"black\")\n",
    "            \n",
    "            plt.plot([pos-0.3,pos+0.3],[sub[t][o][0]+sub[t][o][1]]*2,color=\"black\")\n",
    "            \n",
    "            Tpos.append(pos)\n",
    "            pos += 1.0\n",
    "        Xlabpos.append(np.mean(Tpos))\n",
    "        pos += 1\n",
    "        #print(t)\n",
    "    #break\n",
    "    if test == \"Solvent Exposure [0-9]\":\n",
    "        Tlab = [\"[0-10[\",\"[10-20[\",\"[20-30[\",\"[30-40[\",\"[40-50[\",\"[50-60[\",\"[60-70[\"]\n",
    "        \n",
    "    plt.xticks(Xlabpos, Tlab)\n",
    "    plt.tick_params(axis='both', which='major', labelsize=18)\n",
    "    plt.xlabel(lab,size=18)\n",
    "    plt.ylabel(\"Residue distribution %\",rotation=90)\n",
    "    plt.show()\n",
    "    #break"
   ]
  },
  {
   "cell_type": "code",
   "execution_count": null,
   "metadata": {
    "collapsed": true
   },
   "outputs": [],
   "source": []
  },
  {
   "cell_type": "code",
   "execution_count": null,
   "metadata": {
    "collapsed": false
   },
   "outputs": [],
   "source": []
  },
  {
   "cell_type": "code",
   "execution_count": null,
   "metadata": {
    "collapsed": false,
    "scrolled": false
   },
   "outputs": [],
   "source": [
    "#Relationship between buried and aa type\n",
    "AllDF = []\n",
    "for (t,name) in zip(range(0,3),[\"All\",\"Core\",\"ECR\"]):\n",
    "    Count = dict()\n",
    "    Tot = dict()\n",
    "    for aa in myAmino:\n",
    "        Count[aa] = dict()\n",
    "        Tot[aa] = 0\n",
    "        for i in range(0,9):\n",
    "            Count[aa][str(i)] = 0\n",
    "    torun = PixelDBecr\n",
    "    if t == 0:\n",
    "        torun = PixelDB\n",
    "    for (seq,bury,ecr,size) in zip(torun[\"sequence_alignment\"],torun[\"percent_exposed_alignment\"],torun[\"core_ecr_alignment\"],torun[\"size_of_binding_mode\"]):\n",
    "        #print(seq,bury)\n",
    "        for i in range(0,len(seq)):\n",
    "            if seq[i] == \"-\":\n",
    "                continue\n",
    "            if t == 1:\n",
    "                if ecr[i] == \"E\":\n",
    "                    continue\n",
    "            if t == 2:\n",
    "                if ecr[i] == \"C\":\n",
    "                    continue\n",
    "            if seq[i] not in Count:\n",
    "                Count[seq[i]] = dict()\n",
    "            if bury[i] not in Count[seq[i]]:\n",
    "                Count[seq[i]][bury[i]] = 0\n",
    "            #print(i,seq[i],bury[i])\n",
    "            Count[seq[i]][bury[i]] += 1.0/float(size)\n",
    "            Tot[seq[i]] += 1/float(size)\n",
    "        #break\n",
    "    NormC = dict()\n",
    "    for aa in Tot:\n",
    "        NormC[aa] = dict()\n",
    "        print(aa,Tot[aa])\n",
    "        for b in Count[aa]:\n",
    "            bt = b\n",
    "            if int(bt) > 4:\n",
    "                bt = \"5+\"\n",
    "            if bt not in NormC[aa]:\n",
    "                NormC[aa][bt] = 0\n",
    "            \n",
    "            NormC[aa][bt] += int(float(Count[aa][b]) / float(Tot[aa])*100.0+0.5)\n",
    "    print(name)\n",
    "    figsize(8,8)\n",
    "    df = pd.DataFrame(NormC)\n",
    "    df = df[myAmino]\n",
    "    AllDF.append(df)\n",
    "    sns.heatmap(df[myAmino],vmax=70,annot=True)\n",
    "    plt.title(name )\n",
    "    plt.ylabel(\"Amino acid binned exposure distribution\")\n",
    "    plt.show()"
   ]
  },
  {
   "cell_type": "code",
   "execution_count": null,
   "metadata": {
    "collapsed": false
   },
   "outputs": [],
   "source": [
    "sns.heatmap(AllDF[1]-AllDF[2],annot=True)"
   ]
  },
  {
   "cell_type": "code",
   "execution_count": null,
   "metadata": {
    "collapsed": false
   },
   "outputs": [],
   "source": [
    "plt.scatter(PixelDBoecr[\"peptide_length\"],PixelDBoecr[\"longest_continuous_ecr\"])\n",
    "plt.xlabel(\"Peptide Length\")\n",
    "plt.ylabel(\"ECR Length\")\n",
    "plt.show()"
   ]
  },
  {
   "cell_type": "code",
   "execution_count": null,
   "metadata": {
    "collapsed": false
   },
   "outputs": [],
   "source": [
    "plt.scatter(PixelDB[\"peptide_length\"],PixelDB[\"longest_continuous_ecr\"])\n",
    "plt.xlabel(\"Peptide Length\")\n",
    "plt.ylabel(\"ECR Length\")\n",
    "plt.show()"
   ]
  },
  {
   "cell_type": "code",
   "execution_count": null,
   "metadata": {
    "collapsed": false
   },
   "outputs": [],
   "source": [
    "print(PixelDBecr[PixelDBecr[\"longest_continuous_ecr\"]>=4][\"peptide_length\"].mean())\n",
    "print(PixelDBecr[PixelDBecr[\"longest_continuous_ecr\"]>=4][\"peptide_length\"].min())\n",
    "print(PixelDBecr[PixelDBecr[\"longest_continuous_ecr\"]>=4][\"peptide_length\"].max())\n",
    "plt.hist(PixelDBecr[PixelDBecr[\"longest_continuous_ecr\"]>=4][\"peptide_length\"].values,25)\n",
    "plt.tick_params(axis='both', which='major', labelsize=18)\n",
    "plt.xlabel(\"Peptide Length\")\n",
    "plt.show()\n"
   ]
  },
  {
   "cell_type": "code",
   "execution_count": null,
   "metadata": {
    "collapsed": false
   },
   "outputs": [],
   "source": [
    "Count = dict()\n",
    "for (ecr,pl) in zip(PixelDBecr[\"longest_continuous_ecr\"],PixelDBecr[\"peptide_length\"]):\n",
    "    if ecr not in Count:\n",
    "        Count[ecr] = dict()\n",
    "    if pl not in Count[ecr]:\n",
    "        Count[ecr][pl]=0\n",
    "    Count[ecr][pl] += 1\n"
   ]
  },
  {
   "cell_type": "code",
   "execution_count": null,
   "metadata": {
    "collapsed": false
   },
   "outputs": [],
   "source": [
    "sns.heatmap(pd.DataFrame(Count).fillna(value=0).transpose(),annot=True)\n",
    "plt.xlabel(\"Peptide Length\")\n",
    "plt.ylabel(\"ECR Length\")\n",
    "plt.show()"
   ]
  },
  {
   "cell_type": "code",
   "execution_count": null,
   "metadata": {
    "collapsed": false
   },
   "outputs": [],
   "source": [
    "#Find longest ecr\n",
    "PixelDB.sort([\"longest_continuous_ecr\"],ascending=False).head(5)[[\"name\",\"size_of_binding_mode\",\"unique_id\",\"receptor_length\",\"peptide_length\"]]"
   ]
  },
  {
   "cell_type": "code",
   "execution_count": null,
   "metadata": {
    "collapsed": false
   },
   "outputs": [],
   "source": [
    "#Search for traf\n",
    "tolook = \"2.60.210.10\"\n",
    "for (v,uniid,seq) in zip(np.array(PixelDB[\"CATH\"]),np.array(PixelDB[\"unique_id\"]),np.array(PixelDB[\"sequence_alignment\"])):\n",
    "    if v == nan:\n",
    "        continue\n",
    "    if re.search(tolook,str(v)):\n",
    "        print(v,uniid,seq)"
   ]
  },
  {
   "cell_type": "code",
   "execution_count": null,
   "metadata": {
    "collapsed": false
   },
   "outputs": [],
   "source": [
    "#ECR contact to receptor\n",
    "myCut = 3\n",
    "tot = 0\n",
    "low = 0\n",
    "for (exp,seq) in zip(np.array(PixelDB[\"percent_exposed_alignment\"]),np.array(PixelDB[\"core_ecr_alignment\"])):\n",
    "    #rint(exp,seq)\n",
    "    for i in range(0,len(exp)):\n",
    "        if seq[i] == \"-\":\n",
    "            continue\n",
    "        if (seq[i] == \"e\") or (seq[i] == \"E\"):\n",
    "            tot += 1\n",
    "            if int(exp[i]) <= myCut:\n",
    "                low += 1\n",
    "            #rint(i,exp[i],seq[i])\n",
    "print(tot,low)\n",
    "print(float(low)/float(tot))"
   ]
  },
  {
   "cell_type": "code",
   "execution_count": null,
   "metadata": {
    "collapsed": false
   },
   "outputs": [],
   "source": [
    "PixelDB.columns"
   ]
  },
  {
   "cell_type": "code",
   "execution_count": null,
   "metadata": {
    "collapsed": false
   },
   "outputs": [],
   "source": [
    "carac = pd.read_table(path+\"other_files/AllCp.dat\",names=[\"PDB\",\"Chain\",\"CP\",\"Tot_cont\"],delimiter=\"\\s\")"
   ]
  },
  {
   "cell_type": "code",
   "execution_count": null,
   "metadata": {
    "collapsed": false,
    "scrolled": false
   },
   "outputs": [],
   "source": [
    "figsize(10,10)\n",
    "plt.hist(carac[\"CP\"]*100,20)\n",
    "plt.xlabel(\"Peptide surface contacting a symmetry-related complex (%)\", fontsize=18 )\n",
    "plt.ylabel(\"Count\", fontsize=18)\n",
    "plt.tick_params(axis='both', which='major', labelsize=18)\n",
    "plt.show()"
   ]
  },
  {
   "cell_type": "code",
   "execution_count": null,
   "metadata": {
    "collapsed": false
   },
   "outputs": [],
   "source": [
    "for i in range(1,100):\n",
    "    plt.scatter(i,np.sum(carac[\"CP\"]*100 > i)/float(len(carac[\"CP\"])))"
   ]
  },
  {
   "cell_type": "code",
   "execution_count": null,
   "metadata": {
    "collapsed": false
   },
   "outputs": [],
   "source": [
    "for i in [5,10,15,20,50]:\n",
    "    print(i,np.sum(carac[\"CP\"]*100 > i)/float(len(carac[\"CP\"])),np.sum(carac[\"CP\"]*100 > i))"
   ]
  },
  {
   "cell_type": "code",
   "execution_count": null,
   "metadata": {
    "collapsed": false
   },
   "outputs": [],
   "source": [
    "#Most frequent PFAM in multiple binding mod\n",
    "\n",
    "\n",
    "for bla in list(np.unique(PixelDB[\"cluster_number\"])):\n",
    "    sdf = PixelDB[PixelDB[\"cluster_number\"] == bla]\n",
    "    if (len(np.unique(sdf[\"unique_id\"])) < 10):\n",
    "        continue\n",
    "    UniqueCATH = dict()\n",
    "    for uniid in list(np.unique(sdf[\"CATH\"])):\n",
    "        if str(uniid) == \"nan\":\n",
    "            continue\n",
    "        for v in uniid.split(\"_\"):\n",
    "            #print(v)\n",
    "            if v not in UniquePFAM:\n",
    "                UniqueCATH[v] = 0\n",
    "            UniqueCATH[v] += 1\n",
    "    print(bla,len(np.unique(sdf[\"unique_id\"])),list(set(UniqueCATH)))\n",
    "    #break"
   ]
  },
  {
   "cell_type": "code",
   "execution_count": null,
   "metadata": {
    "collapsed": false
   },
   "outputs": [],
   "source": [
    "#Does receptor cluster with multiple binding mode have more CATH\n",
    "\n",
    "for bla in list(np.unique(PixelDB[\"cluster_number\"])):\n",
    "    sdf = PixelDB[PixelDB[\"cluster_number\"] == bla]\n",
    "    UniqueCATH = dict()\n",
    "    for uniid in list(np.unique(sdf[\"CATH\"])):\n",
    "        if str(uniid) == \"nan\":\n",
    "            continue\n",
    "        for v in uniid.split(\"_\"):\n",
    "            #print(v)\n",
    "            if v not in UniquePFAM:\n",
    "                UniqueCATH[v] = 0\n",
    "            UniqueCATH[v] += 1\n",
    "    plt.scatter(len(np.unique(sdf[\"unique_id\"])),len(list(set(UniqueCATH))))\n",
    "    plt.xlabel(\"Number of binding mode\")\n",
    "    plt.ylabel(\"Number of CATH\")\n",
    "    #print(bla,len(np.unique(sdf[\"unique_id\"])),len(list(set(UniqueCATH))))\n",
    "    #break"
   ]
  },
  {
   "cell_type": "code",
   "execution_count": null,
   "metadata": {
    "collapsed": false
   },
   "outputs": [],
   "source": [
    "sorted(list(np.unique(PixelDBoecr[\"unique_id\"])))"
   ]
  },
  {
   "cell_type": "markdown",
   "metadata": {},
   "source": []
  },
  {
   "cell_type": "code",
   "execution_count": null,
   "metadata": {
    "collapsed": false
   },
   "outputs": [],
   "source": [
    "for clu in list(np.unique(PixelDB[\"cluster_number\"])):\n",
    "    #print(clu)\n",
    "    sdf = PixelDB[PixelDB[\"cluster_number\"] == clu]\n",
    "    if len(np.unique(sdf[\"unique_id\"])) < 5:\n",
    "        continue\n",
    "    print(list(np.unique(sdf[\"unique_id\"])))\n",
    "    #break"
   ]
  },
  {
   "cell_type": "code",
   "execution_count": null,
   "metadata": {
    "collapsed": false
   },
   "outputs": [],
   "source": [
    "np.unique(sdf[\"unique_id\"])"
   ]
  },
  {
   "cell_type": "code",
   "execution_count": null,
   "metadata": {
    "collapsed": true
   },
   "outputs": [],
   "source": [
    "import glob"
   ]
  },
  {
   "cell_type": "code",
   "execution_count": null,
   "metadata": {
    "collapsed": false,
    "scrolled": false
   },
   "outputs": [],
   "source": [
    "#Get all simil Matrix\n",
    "AllPair = []\n",
    "NormCount = dict()\n",
    "AllK = []\n",
    "Fract = []\n",
    "AverageSeqIden = []\n",
    "for i in range(0,21):\n",
    "    myK = float(i)/float(20)\n",
    "    AllK.append(myK)\n",
    "    NormCount[myK] = 0\n",
    "for f in glob.glob('/media/vince/Postdoc/PixelDB/PixelDB/clusters/*/*_simil.CSV'):\n",
    "    sdf = pd.read_table(f,sep=\"\\s\")\n",
    "    if len(sdf) == 1:\n",
    "        continue\n",
    "    np.fill_diagonal(sdf.values, -1)\n",
    "    keep = np.triu(np.ones(sdf.shape)).astype('bool').reshape(sdf.size)\n",
    "    allval = np.array(sdf.stack()[keep])\n",
    "    allval = list(allval[allval > 0])\n",
    "    AllPair += allval\n",
    "    AverageSeqIden.append(np.mean(allval))\n",
    "    toadd = 1.0 / float(len(allval))\n",
    "    Fract.append(np.sum(np.array(allval) > 0.7) / float(len(allval)))\n",
    "    #die\n",
    "    for v in allval:\n",
    "        myK = int(v*20.0)/20.0\n",
    "        #print(int(v*20.0)/20.0,len(allval))\n",
    "        NormCount[myK] += toadd\n",
    "    #if len(sdf) == 5:\n",
    "    #    break"
   ]
  },
  {
   "cell_type": "code",
   "execution_count": null,
   "metadata": {
    "collapsed": false
   },
   "outputs": [],
   "source": [
    "print(np.mean(AverageSeqIden))\n",
    "plt.hist(np.array(AverageSeqIden)*100)\n",
    "plt.xlabel(\"Average sequence idendity in receptor cluster (%)\", fontsize=18 )\n",
    "plt.ylabel(\"Count\", fontsize=18)\n",
    "plt.tick_params(axis='both', which='major', labelsize=18)\n",
    "plt.show()"
   ]
  },
  {
   "cell_type": "code",
   "execution_count": null,
   "metadata": {
    "collapsed": false
   },
   "outputs": [],
   "source": [
    "print(np.mean(AverageSeqIden),np.median(AverageSeqIden),np.min(AverageSeqIden),np.max(AverageSeqIden))"
   ]
  },
  {
   "cell_type": "code",
   "execution_count": null,
   "metadata": {
    "collapsed": false
   },
   "outputs": [],
   "source": [
    "plt.hist(Fract,20)\n",
    "plt.title(\"Distribution of receptor within cluster >70% seq idendity\")\n",
    "plt.show()"
   ]
  },
  {
   "cell_type": "code",
   "execution_count": null,
   "metadata": {
    "collapsed": false
   },
   "outputs": [],
   "source": [
    "AllV = []\n",
    "for myK in AllK:\n",
    "    AllV.append(NormCount[myK])\n",
    "plt.bar(np.array(AllK)*100,AllV)"
   ]
  },
  {
   "cell_type": "code",
   "execution_count": null,
   "metadata": {
    "collapsed": true
   },
   "outputs": [],
   "source": []
  },
  {
   "cell_type": "code",
   "execution_count": null,
   "metadata": {
    "collapsed": false
   },
   "outputs": [],
   "source": [
    "plt.hist(np.array(AllPair)*100,30)\n",
    "plt.xlabel(\"Pairwise sequence identidy in cluster receptor of +2 complexes\")\n",
    "plt.ylabel(\"Count\")\n",
    "plt.tick_params(axis='both', which='major', labelsize=18)\n",
    "plt.show()"
   ]
  },
  {
   "cell_type": "code",
   "execution_count": null,
   "metadata": {
    "collapsed": false
   },
   "outputs": [],
   "source": [
    "AllIn = []\n",
    "AllBe = []\n",
    "\n",
    "\n",
    "AllBetweenBindingMode =[]\n",
    "\n",
    "for clu in list(np.unique(torun[\"cluster_number\"])):\n",
    "    sdf = torun[torun[\"cluster_number\"] == clu]\n",
    "    if (len(sdf[\"unique_id\"].value_counts()) == 1):\n",
    "            continue\n",
    "    #if (len(sdf[\"unique_id\"].value_counts()) != 2):\n",
    "    #       continue\n",
    "    for f in glob.glob(\"/media/vince/Postdoc/PixelDB/PixelDB/clusters/\"+str(clu)+\"/*_simil.CSV\"):\n",
    "        simildf = pd.read_table(f,sep=\"\\s\")\n",
    "        #print(f)\n",
    "        \n",
    "    allunid = list(np.unique(sdf[\"unique_id\"]))\n",
    "    InBindingMode = []\n",
    "    BetweenMode = []\n",
    "    for i in range(0,len(allunid)):\n",
    "        unidd1 = allunid[i]\n",
    "        for j in range(i,len(allunid)):\n",
    "            unidd2 = allunid[j]\n",
    "            df1 = sdf[sdf[\"unique_id\"] == unidd1]\n",
    "            df2 = sdf[sdf[\"unique_id\"] == unidd2]\n",
    "\n",
    "            id1 = df1[\"pdb_id\"]+\"_\"+df1[\"receptor_chain\"]\n",
    "            id2 = df2[\"pdb_id\"]+\"_\"+df2[\"receptor_chain\"]\n",
    "            allval = []\n",
    "            for i1 in id1:\n",
    "                for i2 in id2:\n",
    "                    allval.append(simildf[i1].transpose()[i2])\n",
    "            fract = np.sum(np.array(allval) > 0.7) / float(len(allval))\n",
    "            #print(i,j,unidd1,unidd2,fract)\n",
    "            if i == j:\n",
    "                InBindingMode += allval\n",
    "            else:\n",
    "                BetweenMode += allval\n",
    "                AllBetweenBindingMode += allval\n",
    "    fract = np.sum(np.array(InBindingMode) > 0.7) / float(len(InBindingMode))\n",
    "    #print(\"In binding mode\",fract)\n",
    "    AllIn.append(fract)\n",
    "    fract = np.sum(np.array(BetweenMode) > 0.7) / float(len(BetweenMode))\n",
    "    #print(\"Between binding mode\",fract)\n",
    "    AllBe.append(fract)\n",
    "    #break"
   ]
  },
  {
   "cell_type": "code",
   "execution_count": null,
   "metadata": {
    "collapsed": false
   },
   "outputs": [],
   "source": [
    "simildf[id1].transpose()[id2]"
   ]
  },
  {
   "cell_type": "code",
   "execution_count": null,
   "metadata": {
    "collapsed": false
   },
   "outputs": [],
   "source": [
    "plt.hist(AllBetweenBindingMode)\n",
    "plt.tick_params(axis='both', which='major', labelsize=18)\n",
    "plt.show()\n"
   ]
  },
  {
   "cell_type": "code",
   "execution_count": null,
   "metadata": {
    "collapsed": false
   },
   "outputs": [],
   "source": [
    "for i in range(80,101):\n",
    "    print(i,np.sum(np.array(AllBetweenBindingMode) > (float(i)/100)))"
   ]
  },
  {
   "cell_type": "code",
   "execution_count": null,
   "metadata": {
    "collapsed": false
   },
   "outputs": [],
   "source": [
    "plt.hist(AllIn,20)\n",
    "plt.xlim((0,1))\n",
    "plt.title(\"In binding mode\")\n",
    "plt.show()\n",
    "plt.hist(AllBe,20)\n",
    "plt.title(\"Between binding mode\")\n",
    "plt.xlim((0,1))\n",
    "plt.show()\n",
    "print(\"Average fraction >70% in Binding Mode\",np.mean(AllIn))\n",
    "print(\"Average fraction >70%  Between Binding Mode\",np.mean(AllBe))"
   ]
  },
  {
   "cell_type": "code",
   "execution_count": null,
   "metadata": {
    "collapsed": false
   },
   "outputs": [],
   "source": [
    "PixelDB.columns"
   ]
  },
  {
   "cell_type": "code",
   "execution_count": null,
   "metadata": {
    "collapsed": false
   },
   "outputs": [],
   "source": [
    "AllArrang = dict()\n",
    "for v in np.array(PixelDB[\"core_ecr_alignment\"]):\n",
    "    vinit = v\n",
    "    v = v.replace(\"-\",\"\")\n",
    "    for i in range(0,len(v)):\n",
    "        vi = v\n",
    "        v = re.sub('C+', \"C\", v)\n",
    "        v = re.sub('E+', \"E\", v)\n",
    "        v = re.sub('e+', \"e\", v)\n",
    "        v = re.sub('c+', \"c\", v)\n",
    "        if v == vi:\n",
    "            break\n",
    "    if v not in AllArrang:\n",
    "        AllArrang[v] = 0\n",
    "    AllArrang[v] += 1\n",
    "    #print(vinit,v)\n",
    "for w in sorted(AllArrang, key=AllArrang.get, reverse=True):\n",
    "    print w, AllArrang[w]"
   ]
  },
  {
   "cell_type": "code",
   "execution_count": null,
   "metadata": {
    "collapsed": false
   },
   "outputs": [],
   "source": [
    "AllArrang = dict()\n",
    "for v in np.array(PixelDBoecr[\"core_ecr_alignment\"]):\n",
    "    vinit = v\n",
    "    v = v.replace(\"-\",\"\")\n",
    "    for i in range(0,len(v)):\n",
    "        vi = v\n",
    "        v = re.sub('C+', \"C\", v)\n",
    "        v = re.sub('E+', \"E\", v)\n",
    "        v = re.sub('e+', \"e\", v)\n",
    "        v = re.sub('c+', \"c\", v)\n",
    "        if v == vi:\n",
    "            break\n",
    "    vinit = vinit.replace(\"-\",\"\")\n",
    "    print(vinit,v)\n",
    "    if v not in AllArrang:\n",
    "        AllArrang[v] = 0\n",
    "    AllArrang[v] += 1\n",
    "    #print(vinit,v)\n"
   ]
  },
  {
   "cell_type": "code",
   "execution_count": null,
   "metadata": {
    "collapsed": false
   },
   "outputs": [],
   "source": [
    "tot = 0\n",
    "for w in sorted(AllArrang, key=AllArrang.get, reverse=True):\n",
    "    if (w[0] == \"E\") or (w[-1] == \"E\"):\n",
    "        tot += AllArrang[w]\n",
    "    #else:\n",
    "        print w, AllArrang[w]"
   ]
  },
  {
   "cell_type": "code",
   "execution_count": null,
   "metadata": {
    "collapsed": false
   },
   "outputs": [],
   "source": [
    "print(tot,len(PixelDBoecr))"
   ]
  },
  {
   "cell_type": "code",
   "execution_count": null,
   "metadata": {
    "collapsed": false
   },
   "outputs": [],
   "source": [
    "AllArrang = dict()\n",
    "sdf = PixelDB[PixelDB[\"cluster_number\"] == 1]\n",
    "for v in np.array(sdf[\"core_ecr_alignment\"]):\n",
    "    vinit = v\n",
    "    \n",
    "    v = v.replace(\"-\",\"\")\n",
    "    for i in range(0,len(v)):\n",
    "        vi = v\n",
    "        v = re.sub('C+', \"C\", v)\n",
    "        v = re.sub('E+', \"E\", v)\n",
    "        v = re.sub('e+', \"e\", v)\n",
    "        v = re.sub('c+', \"c\", v)\n",
    "        if v == vi:\n",
    "            break\n",
    "    if v not in AllArrang:\n",
    "        AllArrang[v] = 0\n",
    "    AllArrang[v] += 1\n",
    "    #print(vinit,v)\n",
    "for w in sorted(AllArrang, key=AllArrang.get, reverse=True):\n",
    "    print w, AllArrang[w]"
   ]
  },
  {
   "cell_type": "code",
   "execution_count": null,
   "metadata": {
    "collapsed": true
   },
   "outputs": [],
   "source": []
  },
  {
   "cell_type": "code",
   "execution_count": null,
   "metadata": {
    "collapsed": false
   },
   "outputs": [],
   "source": [
    "#Amino acid composition\n",
    "AllAAComb = dict()\n",
    "sub = AllMeanData[\"Binding Site\"]\n",
    "\n",
    "for aa in sub:\n",
    "    if aa not in AllAAComb:\n",
    "        AllAAComb[aa] = dict()\n",
    "    for t in sub[aa]:\n",
    "        ti = t\n",
    "        if t == \"Core\":\n",
    "            ti = \"Core-binding\"\n",
    "        if t == \"ECR\":\n",
    "            ti = \"Exosite\"\n",
    "        if t == \"Inte\":\n",
    "            ti = \"Interior\"\n",
    "        if t == \"Surf\":\n",
    "            ti = \"NISR\"\n",
    "        AllAAComb[aa][ti] = sub[aa][t][0]\n",
    "sub = AllMeanData[\"Amino Acid compostion\"]\n",
    "\n",
    "for aa in sub:\n",
    "    if aa not in AllAAComb:\n",
    "        AllAAComb[aa] = dict()\n",
    "    for t in sub[aa]:\n",
    "        AllAAComb[aa][t] = sub[aa][t][0]"
   ]
  },
  {
   "cell_type": "code",
   "execution_count": null,
   "metadata": {
    "collapsed": false
   },
   "outputs": [],
   "source": [
    "df = pd.DataFrame(AllAAComb)[myAmino].transpose()[[\"Core\",\"ECR\",\"Core-binding\",\"Exosite\",\"NISR\",\"Interior\"]]"
   ]
  },
  {
   "cell_type": "code",
   "execution_count": null,
   "metadata": {
    "collapsed": false
   },
   "outputs": [],
   "source": [
    "df"
   ]
  },
  {
   "cell_type": "code",
   "execution_count": null,
   "metadata": {
    "collapsed": false
   },
   "outputs": [],
   "source": [
    "LabelOr = [\"Core\",\"ECR\",\"Core-binding\",\"Exosite\",\"NISR\",\"Interior\"]"
   ]
  },
  {
   "cell_type": "code",
   "execution_count": null,
   "metadata": {
    "collapsed": false
   },
   "outputs": [],
   "source": [
    "colcol = [\"red\",\"blue\"]+[\"gray\"]*4\n",
    "LabelOr = [\"Core\",\"ECR\",\"Core-binding\",\"Exosite\",\"NISR\",\"Interior\"]\n",
    "sns.set(font_scale=1.4)\n",
    "#sns.clustermap(df,row_cluster=False,row_colors = Color,col_colors=colcol)\n",
    "pal = sns.light_palette(\"navy\", as_cmap=True)\n",
    "sns.clustermap(df[LabelOr],row_cluster=False,col_cluster=False,cmap=pal,figsize=(12,12),linewidths=.5,annot=True)\n",
    "\n",
    "plt.show()"
   ]
  },
  {
   "cell_type": "code",
   "execution_count": null,
   "metadata": {
    "collapsed": false
   },
   "outputs": [],
   "source": [
    "colcol = [\"red\",\"blue\"]+[\"gray\"]*4\n",
    "sns.set(font_scale=1.9)\n",
    "#sns.clustermap(df,row_cluster=False,row_colors = Color,col_colors=colcol)\n",
    "pal = sns.light_palette(\"navy\", as_cmap=True)\n",
    "sns.clustermap(df,row_cluster=False,cmap=pal,figsize=(12,12),linewidths=.5,annot=True,metric=\"Correlation\", fmt=\".1f\")\n",
    "\n",
    "plt.show()"
   ]
  },
  {
   "cell_type": "code",
   "execution_count": null,
   "metadata": {
    "collapsed": true
   },
   "outputs": [],
   "source": []
  },
  {
   "cell_type": "code",
   "execution_count": null,
   "metadata": {
    "collapsed": false
   },
   "outputs": [],
   "source": [
    "figsize(20,8)\n",
    "Test = [\"Binding Site\",\"Amino Acid compostion\",\"Solvent Exposure [0-9]\"]\n",
    "Label = [\"Receptor Amino Acid Composition (%)\",\"Peptide Amino Acid Composition (%)\",\"Solvent Exposure (%)\"]\n",
    "Order = [\"Core\",\"ECR\",\"Surf\",\"Inte\"]\n",
    "Col = [\"darkred\",\"darkblue\",\"gray\",\"black\"]\n",
    "Color = [\"red\"]*3+[\"blue\"]*2+[\"purple\"]*4+[\"black\"]*3+[\"green\"]*5+[\"yellow\"]*3\n",
    "pos = 0.0\n",
    "for (test,lab) in zip(Test,Label):\n",
    "    pos = 0.0\n",
    "    pos += 1.0\n",
    "    \n",
    "    sub = AllMeanData[test]\n",
    "    #print(len(sub))\n",
    "    Tlab = sorted(sub)\n",
    "    if len(Tlab) == 20:\n",
    "        Tlab = myAmino\n",
    "    Xlabpos = []\n",
    "    \n",
    "    for t in Tlab:\n",
    "        Tpos = []\n",
    "        \n",
    "        for o in Order:\n",
    "            if o not in sub[t]:\n",
    "                continue\n",
    "            plt.bar([pos],sub[t][o][0],color=Col[Order.index(o)])\n",
    "            #plt.plot([pos+0.4,pos+0.4],[sub[t][o][0],sub[t][o][0]+sub[t][o][1]],color=\"black\")\n",
    "            \n",
    "            plt.plot([pos+0.1,pos+0.7],[sub[t][o][0]+sub[t][o][1]]*2,color=\"black\")\n",
    "            \n",
    "            Tpos.append(pos)\n",
    "            pos += 1.0\n",
    "        Xlabpos.append(np.mean(Tpos)+0.5)\n",
    "        pos += 1\n",
    "        #print(t)\n",
    "    #break\n",
    "    if test == \"Solvent Exposure [0-9]\":\n",
    "        Tlab = [\"[0-10[\",\"[10-20[\",\"[20-30[\",\"[30-40[\",\"[40-50[\",\"[50-60[\",\"[60-70[\"]\n",
    "        \n",
    "    plt.xticks(Xlabpos, Tlab)\n",
    "    plt.tick_params(axis='both', which='major', labelsize=18)\n",
    "    plt.xlabel(lab,size=18)\n",
    "    \n",
    "    plt.show()\n",
    "    #break"
   ]
  },
  {
   "cell_type": "code",
   "execution_count": null,
   "metadata": {
    "collapsed": true
   },
   "outputs": [],
   "source": []
  }
 ],
 "metadata": {
  "kernelspec": {
   "display_name": "Python 2",
   "language": "python",
   "name": "python2"
  },
  "language_info": {
   "codemirror_mode": {
    "name": "ipython",
    "version": 2
   },
   "file_extension": ".py",
   "mimetype": "text/x-python",
   "name": "python",
   "nbconvert_exporter": "python",
   "pygments_lexer": "ipython2",
   "version": "2.7.6"
  }
 },
 "nbformat": 4,
 "nbformat_minor": 0
}
