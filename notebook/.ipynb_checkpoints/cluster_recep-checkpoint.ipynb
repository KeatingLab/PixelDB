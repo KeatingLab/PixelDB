{
 "cells": [
  {
   "cell_type": "code",
   "execution_count": 1,
   "metadata": {
    "collapsed": false
   },
   "outputs": [
    {
     "name": "stdout",
     "output_type": "stream",
     "text": [
      "Populating the interactive namespace from numpy and matplotlib\n"
     ]
    }
   ],
   "source": [
    "from sklearn.cluster import KMeans\n",
    "import numpy as np\n",
    "import re\n",
    "import pandas as pd\n",
    "import seaborn as sns\n",
    "import sklearn\n",
    "%pylab inline\n",
    "%matplotlib inline"
   ]
  },
  {
   "cell_type": "code",
   "execution_count": 2,
   "metadata": {
    "collapsed": true
   },
   "outputs": [],
   "source": [
    "import networkx as nx\n"
   ]
  },
  {
   "cell_type": "code",
   "execution_count": 3,
   "metadata": {
    "collapsed": true
   },
   "outputs": [],
   "source": [
    "path = \"/media/vince/Postdoc/PixelDB\""
   ]
  },
  {
   "cell_type": "code",
   "execution_count": 4,
   "metadata": {
    "collapsed": false
   },
   "outputs": [],
   "source": [
    "f = open(path+\"/other_files/all_pairwise_TM.dat\")\n",
    "content = f.readlines()\n",
    "f.close()"
   ]
  },
  {
   "cell_type": "code",
   "execution_count": 5,
   "metadata": {
    "collapsed": false
   },
   "outputs": [],
   "source": [
    "\n",
    "#Load maximal pdb length\n",
    "#3DCOMB was making some weird results\n",
    "#It is being replace by deepaling, that apparentrly don't do that\n",
    "\n",
    "PDBLen = dict()\n",
    "for l in content:\n",
    "    sp = l.split(\" \")\n",
    "    #print(sp)\n",
    "    if (len(sp) != 6):\n",
    "        print(sp)\n",
    "        continue\n",
    "    #if sp[0] != sp[1]:\n",
    "    #    continue\n",
    "    \n",
    "    m = re.search(\"ALI:(\\d+)\",sp[3])\n",
    "    match = int(m.group(1))\n",
    "    alllen = [0,0]\n",
    "    m = re.search(\"TOT1:(\\d+)\",sp[4])\n",
    "    alllen[0] = int(m.group(1))\n",
    "    \n",
    "    m = re.search(\"TOT2:(\\d+)\",sp[5])\n",
    "    alllen[1] = int(m.group(1))\n",
    "    \n",
    "    for i in range(0,2):\n",
    "        if sp[i] not in PDBLen:\n",
    "            PDBLen[sp[i]] = 0\n",
    "        if PDBLen[sp[i]] < alllen[i]:\n",
    "            PDBLen[sp[i]] = alllen[i]\n",
    "    \n",
    "    "
   ]
  },
  {
   "cell_type": "code",
   "execution_count": 6,
   "metadata": {
    "collapsed": false,
    "scrolled": false
   },
   "outputs": [],
   "source": [
    "AllTM = dict() #All TM\n",
    "G=nx.Graph()\n",
    "for l in content:\n",
    "    #if not re.search(\"_.. \",l):\n",
    "    #    continue\n",
    "    #print(l)\n",
    "    sp = l.split(\" \")\n",
    "    if (len(sp) != 6):\n",
    "        print(sp)\n",
    "        continue\n",
    "    m = re.search(\"ALI:(\\d+)\",sp[3])\n",
    "    match = int(m.group(1))\n",
    "    \n",
    "    m = re.search(\"TOT1:(\\d+)\",sp[4])\n",
    "    len1 = int(m.group(1))\n",
    "    \n",
    "    m = re.search(\"TOT2:(\\d+)\",sp[5])\n",
    "    len2 = int(m.group(1))\n",
    "    \n",
    "    #Check len, some old 3DCOMB artefact, leave it for the show\n",
    "    if (len1 != PDBLen[sp[0]]):\n",
    "        print(len1,PDBLen[sp[0]],sp)\n",
    "        len1 = PDBLen[sp[0]]\n",
    "    if (len2 != PDBLen[sp[1]]):\n",
    "        print(len2 ,PDBLen[sp[1]],sp)\n",
    "        len2 = PDBLen[sp[1]]\n",
    "        \n",
    "    #We want the worst TM \n",
    "    maxl = np.max([len1,len2])\n",
    "    if maxl == 0:\n",
    "        maxl = 10\n",
    "        match = 0\n",
    "        iden = 0\n",
    "    TM = float(match) / maxl\n",
    "\n",
    "    #Set the matrix\n",
    "    for i in range(0,2):\n",
    "        if sp[i] not in AllTM:\n",
    "            G.add_node(sp[i])\n",
    "            AllTM[sp[i]] = dict()\n",
    "            AllTM[sp[i]][sp[i]] = 1.0\n",
    "    if sp[1] == sp[0]:\n",
    "        AllTM[sp[0]][sp[1]] = 1.0\n",
    "        continue\n",
    "    #Check some stuff\n",
    "    if sp[1] in AllTM[sp[0]]:\n",
    "        print(TM,AllTM[sp[0]][sp[1]])\n",
    "    if sp[0] in AllTM[sp[1]]:\n",
    "        print(TM,AllTM[sp[1]][sp[0]])        \n",
    "    #Set TM\n",
    "    if TM > 0.8:\n",
    "        G.add_edge(sp[0],sp[1])\n",
    "        G.add_edge(sp[1],sp[0])\n",
    "        #break\n",
    "    AllTM[sp[0]][sp[1]] = TM\n",
    "    AllTM[sp[1]][sp[0]] = TM\n",
    "    \n",
    "    #break"
   ]
  },
  {
   "cell_type": "code",
   "execution_count": 7,
   "metadata": {
    "collapsed": true
   },
   "outputs": [],
   "source": [
    "Gi = G.copy()"
   ]
  },
  {
   "cell_type": "code",
   "execution_count": 8,
   "metadata": {
    "collapsed": false
   },
   "outputs": [
    {
     "name": "stdout",
     "output_type": "stream",
     "text": [
      "2536\n"
     ]
    }
   ],
   "source": [
    "#Build Datafram\n",
    "DistDF = 1-pd.DataFrame(AllTM).fillna(0)\n",
    "print(len(DistDF))"
   ]
  },
  {
   "cell_type": "code",
   "execution_count": null,
   "metadata": {
    "collapsed": false,
    "scrolled": false
   },
   "outputs": [
    {
     "name": "stdout",
     "output_type": "stream",
     "text": [
      "380\n",
      "197\n",
      "138\n",
      "101\n",
      "62\n",
      "41\n",
      "38\n",
      "35\n",
      "32\n",
      "32\n",
      "31\n",
      "31\n",
      "31\n",
      "29\n",
      "27\n",
      "26\n",
      "26\n",
      "25\n",
      "22\n",
      "22\n",
      "19\n",
      "19\n",
      "17\n",
      "16\n",
      "15\n",
      "15\n",
      "14\n",
      "12\n",
      "12\n",
      "12\n",
      "11\n",
      "11\n",
      "11\n",
      "11\n"
     ]
    }
   ],
   "source": [
    "G = Gi.copy()\n",
    "AllCluster = []\n",
    "AllName = []\n",
    "ToPrint = []\n",
    "for i in range(0,len(G.nodes())):\n",
    "    MaxClique = []\n",
    "    MaxSize = 0\n",
    "    for cl in list(nx.find_cliques(G)):\n",
    "        if len(cl) > MaxSize:\n",
    "            MaxSize = len(cl)\n",
    "            MaxClique = cl\n",
    "    if MaxSize > 10:\n",
    "        print(len(MaxClique))\n",
    "    ToPrint += MaxClique\n",
    "    #if (len(MaxClique)) == 1:\n",
    "    #    break\n",
    "    #sns.clustermap(DistDF[MaxClique].transpose()[MaxClique],vmax=1.0)\n",
    "    plt.show()\n",
    "    AllCluster.append(MaxClique)\n",
    "    AllName += MaxClique\n",
    "    for no in MaxClique:\n",
    "        G.remove_node(no)\n",
    "    if (len(G.nodes()) == 0):\n",
    "        break"
   ]
  },
  {
   "cell_type": "code",
   "execution_count": null,
   "metadata": {
    "collapsed": false
   },
   "outputs": [],
   "source": [
    "figsize(10,10)\n",
    "sns.heatmap(DistDF[ToPrint].transpose()[ToPrint],vmax=1.0,vmin=0,)\n",
    "plt.show()"
   ]
  },
  {
   "cell_type": "code",
   "execution_count": null,
   "metadata": {
    "collapsed": false,
    "scrolled": false
   },
   "outputs": [],
   "source": [
    "for clu1 in AllCluster:\n",
    "    if (len(clu1) < 20):\n",
    "        continue\n",
    "    for clu2 in AllCluster:\n",
    "        if clu1 == clu2:\n",
    "            continue\n",
    "        if (len(clu2) < 20):\n",
    "            continue\n",
    "        if (len(clu2) > len(clu1)):\n",
    "            continue\n",
    "        sns.heatmap(DistDF[clu1+clu2].transpose()[clu1+clu2],vmax=1.0,vmin=0)\n",
    "        plt.show()\n",
    "        break\n",
    "    break\n"
   ]
  },
  {
   "cell_type": "code",
   "execution_count": null,
   "metadata": {
    "collapsed": false
   },
   "outputs": [],
   "source": [
    "print(len(AllCluster))\n",
    "print(AllCluster[-1])\n",
    "print(AllCluster[0])"
   ]
  },
  {
   "cell_type": "code",
   "execution_count": 12,
   "metadata": {
    "collapsed": false
   },
   "outputs": [],
   "source": [
    "path\n",
    "f = open(path+\"other_files/cluster.dat\",\"w\")\n",
    "CluNum = 1\n",
    "for clu in AllCluster:\n",
    "    f.write(str(CluNum))\n",
    "    for c in clu:\n",
    "        f.write(\" \"+str(c))\n",
    "    f.write(\"\\n\")\n",
    "    CluNum += 1\n",
    "f.close()"
   ]
  },
  {
   "cell_type": "code",
   "execution_count": null,
   "metadata": {
    "collapsed": true
   },
   "outputs": [],
   "source": []
  }
 ],
 "metadata": {
  "kernelspec": {
   "display_name": "Python 2",
   "language": "python",
   "name": "python2"
  },
  "language_info": {
   "codemirror_mode": {
    "name": "ipython",
    "version": 2
   },
   "file_extension": ".py",
   "mimetype": "text/x-python",
   "name": "python",
   "nbconvert_exporter": "python",
   "pygments_lexer": "ipython2",
   "version": "2.7.6"
  }
 },
 "nbformat": 4,
 "nbformat_minor": 0
}
